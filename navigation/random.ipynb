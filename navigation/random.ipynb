{
 "cells": [
  {
   "cell_type": "raw",
   "id": "9ca4d2f2",
   "metadata": {
    "lines_to_next_cell": 0,
    "vscode": {
     "languageId": "raw"
    }
   },
   "source": [
    "---\n",
    "layout: page\n",
    "title: Random Simulation\n",
    "permalink: /random/\n",
    "---"
   ]
  },
  {
   "cell_type": "markdown",
   "id": "827bc3e7",
   "metadata": {},
   "source": [
    "## Popcorn Hack 1: Real-World Applications\n",
    "\n",
    "Cybersecurity (e.g., password generation and encryption):\n",
    "Random numbers are critical for creating secure passwords, cryptographic keys, and tokens. Without true randomness, systems would be vulnerable to hacking and unauthorized access.\n",
    "\n",
    "Video Games (e.g., loot drops or enemy behavior):\n",
    "Random number generation makes games more exciting and unpredictable. For example, it can determine what loot a player gets or how enemies behave, adding variety and replayability.\n",
    "\n",
    "## Popcorn Hack 2: Magic 8-Ball with Run Button"
   ]
  },
  {
   "cell_type": "code",
   "execution_count": null,
   "id": "7b320bea",
   "metadata": {},
   "outputs": [],
   "source": [
    "import random\n",
    "\n",
    "def magic_8_ball():\n",
    "    num = random.random()\n",
    "    if num < 0.5:\n",
    "        return \"Yes\"\n",
    "    elif num < 0.75:\n",
    "        return \"No\"\n",
    "    else:\n",
    "        return \"Ask again later\"\n",
    "\n",
    "# Test your function\n",
    "for i in range(10):\n",
    "    print(f\"Magic 8-Ball says: {magic_8_ball()}\")"
   ]
  },
  {
   "cell_type": "markdown",
   "id": "8f81d6b3",
   "metadata": {},
   "source": [
    "## Popcorn Hack 3: # Modified traffic light simulation"
   ]
  },
  {
   "cell_type": "code",
   "execution_count": null,
   "id": "4fdaee17",
   "metadata": {
    "lines_to_next_cell": 0
   },
   "outputs": [],
   "source": [
    "states = [\"Green\", \"Yellow\", \"Red\"]\n",
    "durations = {\"Green\": 5, \"Yellow\": 2, \"Red\": 4}\n",
    "timeline = []\n",
    "\n",
    "# Simulate 20 time steps\n",
    "time = 0\n",
    "state = \"Green\"\n",
    "counter = 0\n",
    "\n",
    "while time < 20:\n",
    "    timeline.append((time, state))\n",
    "    counter += 1\n",
    "    if counter == durations[state]:\n",
    "        counter = 0\n",
    "        current_index = states.index(state)\n",
    "        state = states[(current_index + 1) % len(states)]\n",
    "    time += 1\n",
    "\n",
    "for t, s in timeline:\n",
    "    print(f\"Time {t}: {s}\")"
   ]
  },
  {
   "cell_type": "markdown",
   "id": "5bedd103",
   "metadata": {
    "lines_to_next_cell": 0
   },
   "source": [
    "### Reflection:\n",
    "This is a simulation because it models how a real-world traffic light system operates over time using rules and time steps. Its real-world impact lies in helping city planners or engineers test timing sequences and improve traffic flow efficiency without needing to test on actual roads.\n",
    "\n",
    "## Homework Hack 1: Dice Game simulation"
   ]
  },
  {
   "cell_type": "code",
   "execution_count": null,
   "id": "88d2c890",
   "metadata": {
    "lines_to_next_cell": 0
   },
   "outputs": [],
   "source": [
    "import random\n",
    "\n",
    "def roll_dice():\n",
    "    \"\"\"Roll two dice and return their values and sum.\"\"\"\n",
    "    die1 = random.randint(1, 6)\n",
    "    die2 = random.randint(1, 6)\n",
    "    total = die1 + die2\n",
    "    print(f\"Rolled: {die1} + {die2} = {total}\")\n",
    "    return total\n",
    "\n",
    "def play_dice_game():\n",
    "    \"\"\"\n",
    "    Play one round of the dice game.\n",
    "    Returns True if player wins, False if player loses.\n",
    "    \"\"\"\n",
    "    first_roll = roll_dice()\n",
    "\n",
    "    if first_roll in [7, 11]:\n",
    "        print(\"You win!\")\n",
    "        return True\n",
    "    elif first_roll in [2, 3, 12]:\n",
    "        print(\"You lose!\")\n",
    "        return False\n",
    "    else:\n",
    "        point = first_roll\n",
    "        print(f\"Point is set to {point}. Keep rolling!\")\n",
    "\n",
    "        while True:\n",
    "            roll = roll_dice()\n",
    "            if roll == point:\n",
    "                print(\"You hit the point! You win!\")\n",
    "                return True\n",
    "            elif roll == 7:\n",
    "                print(\"Rolled a 7. You lose!\")\n",
    "                return False\n",
    "\n",
    "def main():\n",
    "    \"\"\"Main game function with game loop and statistics.\"\"\"\n",
    "    wins = 0\n",
    "    losses = 0\n",
    "\n",
    "    while True:\n",
    "        play = input(\"\\nDo you want to play? (yes/no): \").strip().lower()\n",
    "        if play == \"yes\":\n",
    "            if play_dice_game():\n",
    "                wins += 1\n",
    "            else:\n",
    "                losses += 1\n",
    "            print(f\"\\nCurrent Stats: {wins} Wins, {losses} Losses\")\n",
    "        elif play == \"no\":\n",
    "            print(f\"\\nFinal Stats: {wins} Wins, {losses} Losses\")\n",
    "            print(\"Thanks for playing!\")\n",
    "            break\n",
    "        else:\n",
    "            print(\"Please enter 'yes' or 'no'.\")\n",
    "\n",
    "print(\"Welcome to the Dice Game!\")\n",
    "main()"
   ]
  }
 ],
 "metadata": {
  "jupytext": {
   "cell_metadata_filter": "-all",
   "main_language": "python",
   "notebook_metadata_filter": "-all"
  },
  "kernelspec": {
   "display_name": "venv",
   "language": "python",
   "name": "python3"
  },
  "language_info": {
   "name": "python",
   "version": "3.12.3"
  }
 },
 "nbformat": 4,
 "nbformat_minor": 5
}
