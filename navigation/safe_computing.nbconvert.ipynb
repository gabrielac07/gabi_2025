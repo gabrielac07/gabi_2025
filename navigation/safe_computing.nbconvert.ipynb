{
 "cells": [
  {
   "cell_type": "raw",
   "id": "2aba48ac",
   "metadata": {},
   "source": [
    "---\n",
    "layout: post\n",
    "title: Safe Computing Hack 2\n",
    "author: Gabriela Connelly\n",
    "permalink: /safe_computing/\n",
    "---"
   ]
  },
  {
   "cell_type": "markdown",
   "id": "5df9f93b",
   "metadata": {},
   "source": [
    "{% highlight python %}\n",
    "import random\n",
    "\n",
    "def caesar_cipher(text, shift, mode):\n",
    "    result = \"\"\n",
    "    for char in text:\n",
    "        if char.isalpha():  # Encrypts only letters\n",
    "            shift_amount = shift if mode == \"encrypt\" else -shift\n",
    "            new_char = chr(((ord(char.lower()) - 97 + shift_amount) % 26) + 97)\n",
    "            result += new_char.upper() if char.isupper() else new_char\n",
    "        else:\n",
    "            result += char  # Keeps spaces and punctuation unchanged\n",
    "    return result\n",
    "\n",
    "# Getting user input\n",
    "mode = input(\"Do you want to encrypt or decrypt? \").strip().lower()\n",
    "message = input(\"Enter your message: \")\n",
    "shift_input = input(\"Enter shift value (number of places to shift) or type 'random': \").strip().lower()\n",
    "\n",
    "# Handling the \"random\" shift value\n",
    "if shift_input == \"random\":\n",
    "    shift = random.randint(1, 25)\n",
    "    print(f\"Random shift value selected: {shift}\")\n",
    "else:\n",
    "    shift = int(shift_input)\n",
    "\n",
    "# Performing encryption/decryption\n",
    "output = caesar_cipher(message, shift, mode)\n",
    "print(f\"Result: {output}\")\n",
    "{% endhighlight %}"
   ]
  }
 ],
 "metadata": {
  "jupytext": {
   "cell_metadata_filter": "-all",
   "main_language": "python",
   "notebook_metadata_filter": "-all"
  },
  "language_info": {
   "codemirror_mode": {
    "name": "ipython",
    "version": 3
   },
   "file_extension": ".py",
   "mimetype": "text/x-python",
   "name": "python",
   "nbconvert_exporter": "python",
   "pygments_lexer": "ipython3",
   "version": "3.12.3"
  }
 },
 "nbformat": 4,
 "nbformat_minor": 5
}
