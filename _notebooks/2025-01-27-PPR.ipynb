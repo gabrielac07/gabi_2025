{
 "cells": [
  {
   "cell_type": "raw",
   "metadata": {
    "vscode": {
     "languageId": "raw"
    }
   },
   "source": [
    "---\n",
    "layout: post\n",
    "title: Sprint 4 Personalized Project Reference\n",
    "permalink: /sprint4_PPR/\n",
    "---"
   ]
  },
  {
   "cell_type": "markdown",
   "metadata": {},
   "source": [
    "## Purpose of our Program: \n",
    "The purpose of our program is to connect readers so they can get recommendations, provide reviews, and find new books to read.\n",
    "\n",
    "### Purpose of my feature:\n",
    "The purpose of my feature, the wishlist, is for readers to be able to keep track of the books that they want to read in the future."
   ]
  },
  {
   "cell_type": "markdown",
   "metadata": {},
   "source": [
    "### Lists\n",
    "Lists are used to handle rows of data, such as when restoring the Wishlist table from a list of dictionaries. Here, data is a list of dictionaries, each representing a row to be added to the database.\n",
    "The restore method iterates over the list and adds each dictionary as a row in the database."
   ]
  },
  {
   "cell_type": "code",
   "execution_count": null,
   "metadata": {},
   "outputs": [],
   "source": [
    "data = [{\"book_id\": 1}, {\"book_id\": 2}, {\"book_id\": 3}]\n",
    "Wishlist.restore(data)"
   ]
  },
  {
   "cell_type": "markdown",
   "metadata": {},
   "source": [
    "### Dictionaries\n",
    "Each dictionary contains column names as keys (id, book_id) and their respective values.\n",
    "This is particularly useful when serializing database objects for use in APIs, such as returning JSON responses."
   ]
  },
  {
   "cell_type": "code",
   "execution_count": null,
   "metadata": {},
   "outputs": [],
   "source": [
    "def read(self):\n",
    "    return {\n",
    "        \"id\": self.id,\n",
    "        \"book_id\": self.book_id,\n",
    "    }"
   ]
  },
  {
   "cell_type": "markdown",
   "metadata": {},
   "source": [
    "### CRUD\n",
    "The function get_wishlist() retrieves all rows from the wishlist table as a list of Wishlist objects. The SQLAlchemy ORM is the third-party library used here."
   ]
  },
  {
   "cell_type": "code",
   "execution_count": null,
   "metadata": {},
   "outputs": [],
   "source": [
    "def get_wishlist():\n",
    "    return Wishlist.query.all()"
   ]
  },
  {
   "cell_type": "markdown",
   "metadata": {},
   "source": [
    "The returned list can be further processed, e.g., converted into a JSON response. This converts the list of Wishlist objects into a list of dictionaries. \n"
   ]
  },
  {
   "cell_type": "code",
   "execution_count": null,
   "metadata": {},
   "outputs": [],
   "source": [
    "wishlist_items = [item.read() for item in get_wishlist()]\n"
   ]
  },
  {
   "cell_type": "markdown",
   "metadata": {},
   "source": [
    "The Wishlist model provides methods for handling individual columns (id, book_id):\n",
    "\n",
    "Create: Using add_to_wishlist(book_id):\n"
   ]
  },
  {
   "cell_type": "code",
   "execution_count": null,
   "metadata": {},
   "outputs": [],
   "source": [
    "item = Wishlist(book_id=book_id)\n",
    "db.session.add(item)\n",
    "db.session.commit()"
   ]
  },
  {
   "cell_type": "markdown",
   "metadata": {},
   "source": [
    "Read: Using read():\n"
   ]
  },
  {
   "cell_type": "code",
   "execution_count": null,
   "metadata": {},
   "outputs": [],
   "source": [
    "wishlist_dict = item.read()\n"
   ]
  },
  {
   "cell_type": "markdown",
   "metadata": {},
   "source": [
    "Delete: Using delete_from_wishlist(book_id):\n"
   ]
  },
  {
   "cell_type": "code",
   "execution_count": null,
   "metadata": {},
   "outputs": [],
   "source": [
    "item = Wishlist.query.filter_by(book_id=book_id).first()\n",
    "db.session.delete(item)\n",
    "db.session.commit()"
   ]
  },
  {
   "cell_type": "markdown",
   "metadata": {},
   "source": [
    "Sequencing, Selection, and Iteration\n",
    "\n",
    "The add_book_to_wishlist method demonstrates sequencing, selection, and iteration:\n",
    "\n",
    "\n",
    "\n",
    "\n"
   ]
  },
  {
   "cell_type": "code",
   "execution_count": null,
   "metadata": {},
   "outputs": [],
   "source": [
    "# Route to add a book to the wishlist\n",
    "@wishlist_api.route('/', methods=['POST'])\n",
    "def add_book_to_wishlist():\n",
    "    \"\"\"Add a book to the wishlist.\"\"\"\n",
    "    if request.is_json:\n",
    "        data = request.get_json()\n",
    "        book_id = data.get('book_id')\n",
    "\n",
    "        # Validate that book_id is provided\n",
    "        if not book_id:\n",
    "            return jsonify({\"error\": \"Missing book_id\"}), 400\n",
    "\n",
    "        # Check if the book exists in the books database\n",
    "        book = Book.query.get(book_id)\n",
    "        if not book:\n",
    "            return jsonify({\"error\": \"Book not found\"}), 404\n",
    "\n",
    "        # Check if the book is already in the wishlist\n",
    "        existing_entry = Wishlist.query.filter_by(book_id=book_id).first()\n",
    "        if existing_entry:\n",
    "            return jsonify({\"message\": \"Book already in wishlist\"}), 200\n",
    "\n",
    "        # Add the book to the wishlist\n",
    "        new_entry = Wishlist(book_id=book_id)\n",
    "        db.session.add(new_entry)\n",
    "        db.session.commit()\n",
    "\n",
    "        return jsonify({\"message\": \"Book added to wishlist\"}), 201\n",
    "\n",
    "    return jsonify({\"error\": \"Request must be JSON\"}), 415\n"
   ]
  },
  {
   "cell_type": "markdown",
   "metadata": {},
   "source": [
    "Sequencing: Sequentially processes the request, validates the input, checks database records, and adds a new entry.\n",
    "\n",
    "Selection: Uses if conditions to handle cases like missing book_id, non-existent books, or duplicate entries.\n",
    "\n",
    "Iteration: Iterates through existing records using a loop to build the wishlist response."
   ]
  },
  {
   "cell_type": "markdown",
   "metadata": {},
   "source": [
    "Parameters and Return Types\n",
    "\n",
    "Parameters:\n",
    "\n",
    "The POST request body must be JSON and include `book_id`.\n",
    "\n",
    "Example body:\n",
    "\n",
    "{\n",
    "  \"book_id\": 1\n",
    "}\n",
    "\n",
    "Return Type: JSON responses are created using `jsonify`, returning:\n",
    "\n",
    "Success messages (`201` or `200` status).\n",
    "\n",
    "Error messages (`400`, `404`, or `415` status).\n",
    "\n",
    "## Making a Request\n"
   ]
  },
  {
   "cell_type": "code",
   "execution_count": null,
   "metadata": {},
   "outputs": [],
   "source": [
    "// Adding a book to the wishlist\n",
    "fetch('/api/wishlist/', {\n",
    "    method: 'POST',\n",
    "    headers: {\n",
    "        'Content-Type': 'application/json'\n",
    "    },\n",
    "    body: JSON.stringify({ book_id: 1 })\n",
    "})\n",
    ".then(response => response.json())\n",
    ".then(data => console.log(data));"
   ]
  },
  {
   "cell_type": "markdown",
   "metadata": {},
   "source": [
    "## Testing API's on postman\n",
    "\n",
    "Fetching all the books:\n",
    " {\n",
    "        \"author\": \"Charles Dickens\",\n",
    "        \"id\": 1,\n",
    "        \"title\": \"Great Expectations\"\n",
    "    },\n",
    "    {\n",
    "        \"author\": \"S.E. Hinton\",\n",
    "        \"id\": 2,\n",
    "        \"title\": \"The Outsiders\"\n",
    "    },\n",
    "...\n",
    "\n",
    "Fetching the wishlist:\n",
    " {\n",
    "        \"author\": \"Jane Austen\",\n",
    "        \"id\": 4,\n",
    "        \"title\": \"Pride and Prejudice\"\n",
    "    },\n",
    "    {\n",
    "        \"author\": \"Traci Chee\",\n",
    "        \"id\": 16,\n",
    "        \"title\": \"We are Not Free\"\n",
    "    },\n",
    "...\n",
    "\n",
    "Adding a book to wishlist:\n",
    "{\n",
    "    \"message\": \"Book added to wishlist\"\n",
    "}\n",
    "or\n",
    "{\n",
    "    \"message\": \"Book already in wishlist\"\n",
    "}\n",
    "\n",
    "Deleting book from wishlist:\n",
    "{\n",
    "    \"message\": \"Book removed from wishlist\"\n",
    "}\n",
    "or\n",
    "{\n",
    "    \"error\": \"Book not found in wishlist\"\n",
    "}"
   ]
  }
 ],
 "metadata": {
  "language_info": {
   "name": "python"
  }
 },
 "nbformat": 4,
 "nbformat_minor": 2
}
