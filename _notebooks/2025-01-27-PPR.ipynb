{
 "cells": [
  {
   "cell_type": "raw",
   "metadata": {
    "vscode": {
     "languageId": "raw"
    }
   },
   "source": [
    "---\n",
    "layout: post\n",
    "title: Sprint 4 Personalized Project Reference\n",
    "permalink: /sprint4_PPR/\n",
    "---"
   ]
  },
  {
   "cell_type": "markdown",
   "metadata": {},
   "source": [
    "## Purpose of our Program: \n",
    "The purpose of our program is to connect readers so they can get recommendations, provide reviews, and find new books to read.\n",
    "\n",
    "## Purpose of my feature:\n",
    "The purpose of my feature, the wishlist, is for readers to be able to keep track of the books that they want to read in the future."
   ]
  },
  {
   "cell_type": "markdown",
   "metadata": {},
   "source": [
    "\n",
    "## API Methods:\n",
    "\n",
    "### 1. GET Method: Fetching Data\n",
    "The API provides two `GET` routes:\n",
    "\n",
    "#### Fetching All Books\n",
    "```python\n",
    "@wishlist_api.route('/books', methods=['GET'])\n",
    "def get_books():\n",
    "    \"\"\"Retrieve all books from the database to display in a dropdown menu.\"\"\"\n",
    "    books = Book.query.all()\n",
    "    books_list = [{'id': book.id, 'title': book.title, 'author': book.author} for book in books]\n",
    "    return jsonify(books_list)\n",
    "```\n",
    "This function retrieves all books from the database and returns a JSON list of book objects.\n",
    "\n",
    "#### Fetching Books in Wishlist\n",
    "```python\n",
    "@wishlist_api.route('/', methods=['GET'])\n",
    "def get_wishlist():\n",
    "    \"\"\"Retrieve all books in the wishlist.\"\"\"\n",
    "    wishlist_items = Wishlist.query.all()\n",
    "    books_in_wishlist = []\n",
    "    for item in wishlist_items:\n",
    "        book = Book.query.get(item.book_id)\n",
    "        if book:\n",
    "            books_in_wishlist.append({'id': book.id, 'title': book.title, 'author': book.author})\n",
    "    return jsonify(books_in_wishlist)\n",
    "```\n",
    "This function retrieves books currently in the wishlist by cross-referencing the `Wishlist` model with the `Book` model.\n",
    "\n",
    "### 2. POST Method: Adding Data\n",
    "```python\n",
    "@wishlist_api.route('/', methods=['POST'])\n",
    "def add_book_to_wishlist():\n",
    "    \"\"\"Add a book to the wishlist.\"\"\"\n",
    "    if request.is_json:\n",
    "        data = request.get_json()\n",
    "        book_id = data.get('book_id')\n",
    "\n",
    "        if not book_id:\n",
    "            return jsonify({\"error\": \"Missing book_id\"}), 400\n",
    "\n",
    "        book = Book.query.get(book_id)\n",
    "        if not book:\n",
    "            return jsonify({\"error\": \"Book not found\"}), 404\n",
    "\n",
    "        existing_entry = Wishlist.query.filter_by(book_id=book_id).first()\n",
    "        if existing_entry:\n",
    "            return jsonify({\"message\": \"Book already in wishlist\"}), 200\n",
    "\n",
    "        new_entry = Wishlist(book_id=book_id)\n",
    "        db.session.add(new_entry)\n",
    "        db.session.commit()\n",
    "\n",
    "        return jsonify({\"message\": \"Book added to wishlist\"}), 201\n",
    "\n",
    "    return jsonify({\"error\": \"Request must be JSON\"}), 415\n",
    "```\n",
    "This function:\n",
    "- Extracts `book_id` from the JSON request body.\n",
    "- Validates if the book exists in the database.\n",
    "- Checks if the book is already in the wishlist.\n",
    "- Adds the book to the wishlist and commits the transaction.\n",
    "- Returns appropriate responses for missing or invalid data.\n",
    "\n",
    "### 3. DELETE Method: Removing Data\n",
    "```python\n",
    "@wishlist_api.route('/<int:book_id>', methods=['DELETE'])\n",
    "def delete_book_from_wishlist(book_id):\n",
    "    \"\"\"Delete a book from the wishlist.\"\"\"\n",
    "    wishlist_item = Wishlist.query.filter_by(book_id=book_id).first()\n",
    "\n",
    "    if not wishlist_item:\n",
    "        return jsonify({\"error\": \"Book not found in wishlist\"}), 404\n",
    "\n",
    "    try:\n",
    "        db.session.delete(wishlist_item)\n",
    "        db.session.commit()\n",
    "        return jsonify({\"message\": \"Book removed from wishlist\"}), 200\n",
    "    except Exception as e:\n",
    "        db.session.rollback()\n",
    "        return jsonify({\"error\": f\"An error occurred: {str(e)}\"}), 500\n",
    "```\n",
    "This function:\n",
    "- Checks if the book exists in the wishlist.\n",
    "- Deletes the book entry from the wishlist.\n",
    "- Handles database commit errors properly.\n",
    "\n",
    "## Handling Requests with Algorithms\n",
    "The API demonstrates three fundamental control structures:\n",
    "\n",
    "### 1. **Sequencing**\n",
    "Each function follows a structured sequence:\n",
    "1. Receive the request.\n",
    "2. Validate the input.\n",
    "3. Query the database.\n",
    "4. Process and return the response.\n",
    "\n",
    "### 2. **Selection (Conditional Statements)**\n",
    "Conditional logic is used in:\n",
    "- `POST` request: Checking if `book_id` is missing, if the book exists, and if it's already in the wishlist.\n",
    "- `DELETE` request: Ensuring the book is in the wishlist before attempting deletion.\n",
    "\n",
    "### 3. **Iteration (Looping)**\n",
    "Iteration is applied in the `GET` wishlist method:\n",
    "```python\n",
    "for item in wishlist_items:\n",
    "    book = Book.query.get(item.book_id)\n",
    "    if book:\n",
    "        books_in_wishlist.append({'id': book.id, 'title': book.title, 'author': book.author})\n",
    "```\n",
    "This loop retrieves book details for each wishlist item.\n",
    "\n",
    "## API Call Example\n",
    "### Making a Request Using `fetch`\n",
    "```javascript\n",
    "fetch('/api/wishlist/', {\n",
    "    method: 'POST',\n",
    "    headers: {\n",
    "        'Content-Type': 'application/json'\n",
    "    },\n",
    "    body: JSON.stringify({ book_id: 1 })\n",
    "})\n",
    ".then(response => response.json())\n",
    ".then(data => console.log(data));\n",
    "```\n",
    "### Handling the Response\n",
    "```javascript\n",
    "fetch('/api/wishlist/')\n",
    "    .then(response => response.json())\n",
    "    .then(data => console.log(data))\n",
    "    .catch(error => console.error('Error:', error));\n",
    "```\n",
    "\n",
    "## Error Handling and Response Variations\n",
    "| Condition | Response |\n",
    "|-----------|----------|\n",
    "| `book_id` is missing | `{ \"error\": \"Missing book_id\" }` (400) |\n",
    "| Book does not exist | `{ \"error\": \"Book not found\" }` (404) |\n",
    "| Book already in wishlist | `{ \"message\": \"Book already in wishlist\" }` (200) |\n",
    "| Successfully added | `{ \"message\": \"Book added to wishlist\" }` (201) |\n",
    "| Successfully deleted | `{ \"message\": \"Book removed from wishlist\" }` (200) |\n",
    "| Book not in wishlist | `{ \"error\": \"Book not found in wishlist\" }` (404) |\n",
    "\n",
    "This document comprehensively details the API's logic, request handling, and error responses.\n",
    "\n"
   ]
  },
  {
   "cell_type": "markdown",
   "metadata": {},
   "source": [
    "## Testing API's on Postman\n",
    "\n",
    "Return List of Books:\n",
    "![img](../images/get_books.png)\n",
    "\n",
    "Return Wishlist\n",
    "![img](../images/get_wishlist.png)\n",
    "\n",
    "Add a Book to the Wishlist\n",
    "![img](../images/add_wishlist.png)\n",
    "\n",
    "Delete a Book From the Wishlist\n",
    "![img](../images/delete_wishlist.png)\n",
    "\n",
    "\n",
    "\n",
    "\n"
   ]
  },
  {
   "cell_type": "markdown",
   "metadata": {},
   "source": [
    "### Lists\n",
    "Lists are used to handle rows of data, such as when restoring the Wishlist table from a list of dictionaries. Here, data is a list of dictionaries, each representing a row to be added to the database.\n",
    "The restore method iterates over the list and adds each dictionary as a row in the database."
   ]
  },
  {
   "cell_type": "code",
   "execution_count": null,
   "metadata": {},
   "outputs": [],
   "source": [
    "data = [{\"book_id\": 1}, {\"book_id\": 2}, {\"book_id\": 3}]\n",
    "Wishlist.restore(data)"
   ]
  },
  {
   "cell_type": "markdown",
   "metadata": {},
   "source": [
    "### Dictionaries\n",
    "Each dictionary contains column names as keys (id, book_id) and their respective values.\n",
    "This is particularly useful when serializing database objects for use in APIs, such as returning JSON responses."
   ]
  },
  {
   "cell_type": "code",
   "execution_count": null,
   "metadata": {},
   "outputs": [],
   "source": [
    "def read(self):\n",
    "    return {\n",
    "        \"id\": self.id,\n",
    "        \"book_id\": self.book_id,\n",
    "    }"
   ]
  },
  {
   "cell_type": "markdown",
   "metadata": {},
   "source": [
    "### CRUD\n",
    "The function get_wishlist() retrieves all rows from the wishlist table as a list of Wishlist objects. The SQLAlchemy ORM is the third-party library used here."
   ]
  },
  {
   "cell_type": "code",
   "execution_count": null,
   "metadata": {},
   "outputs": [],
   "source": [
    "def get_wishlist():\n",
    "    return Wishlist.query.all()"
   ]
  },
  {
   "cell_type": "markdown",
   "metadata": {},
   "source": [
    "The returned list can be further processed, e.g., converted into a JSON response. This converts the list of Wishlist objects into a list of dictionaries. \n"
   ]
  },
  {
   "cell_type": "code",
   "execution_count": null,
   "metadata": {},
   "outputs": [],
   "source": [
    "wishlist_items = [item.read() for item in get_wishlist()]\n"
   ]
  },
  {
   "cell_type": "markdown",
   "metadata": {},
   "source": [
    "The Wishlist model provides methods for handling individual columns (id, book_id):\n",
    "\n",
    "Create: Using add_to_wishlist(book_id):\n"
   ]
  },
  {
   "cell_type": "code",
   "execution_count": null,
   "metadata": {},
   "outputs": [],
   "source": [
    "item = Wishlist(book_id=book_id)\n",
    "db.session.add(item)\n",
    "db.session.commit()"
   ]
  },
  {
   "cell_type": "markdown",
   "metadata": {},
   "source": [
    "Read: Using read():\n"
   ]
  },
  {
   "cell_type": "code",
   "execution_count": null,
   "metadata": {},
   "outputs": [],
   "source": [
    "wishlist_dict = item.read()\n"
   ]
  },
  {
   "cell_type": "markdown",
   "metadata": {},
   "source": [
    "Delete: Using delete_from_wishlist(book_id):\n"
   ]
  },
  {
   "cell_type": "code",
   "execution_count": null,
   "metadata": {},
   "outputs": [],
   "source": [
    "item = Wishlist.query.filter_by(book_id=book_id).first()\n",
    "db.session.delete(item)\n",
    "db.session.commit()"
   ]
  },
  {
   "cell_type": "markdown",
   "metadata": {},
   "source": [
    "## Sequencing, Selection, and Iteration\n",
    "\n",
    "The add_book_to_wishlist method demonstrates sequencing, selection, and iteration:\n",
    "\n",
    "\n",
    "\n",
    "\n"
   ]
  },
  {
   "cell_type": "code",
   "execution_count": null,
   "metadata": {},
   "outputs": [],
   "source": [
    "# Route to add a book to the wishlist\n",
    "@wishlist_api.route('/', methods=['POST'])\n",
    "def add_book_to_wishlist():\n",
    "    \"\"\"Add a book to the wishlist.\"\"\"\n",
    "    if request.is_json:\n",
    "        data = request.get_json()\n",
    "        book_id = data.get('book_id')\n",
    "\n",
    "        # Validate that book_id is provided\n",
    "        if not book_id:\n",
    "            return jsonify({\"error\": \"Missing book_id\"}), 400\n",
    "\n",
    "        # Check if the book exists in the books database\n",
    "        book = Book.query.get(book_id)\n",
    "        if not book:\n",
    "            return jsonify({\"error\": \"Book not found\"}), 404\n",
    "\n",
    "        # Check if the book is already in the wishlist\n",
    "        existing_entry = Wishlist.query.filter_by(book_id=book_id).first()\n",
    "        if existing_entry:\n",
    "            return jsonify({\"message\": \"Book already in wishlist\"}), 200\n",
    "\n",
    "        # Add the book to the wishlist\n",
    "        new_entry = Wishlist(book_id=book_id)\n",
    "        db.session.add(new_entry)\n",
    "        db.session.commit()\n",
    "\n",
    "        return jsonify({\"message\": \"Book added to wishlist\"}), 201\n",
    "\n",
    "    return jsonify({\"error\": \"Request must be JSON\"}), 415\n"
   ]
  },
  {
   "cell_type": "markdown",
   "metadata": {},
   "source": [
    "Sequencing: Sequentially processes the request, validates the input, checks database records, and adds a new entry.\n",
    "\n",
    "Selection: Uses if conditions to handle cases like missing book_id, non-existent books, or duplicate entries.\n",
    "\n",
    "Iteration: Iterates through existing records using a loop to build the wishlist response."
   ]
  },
  {
   "cell_type": "markdown",
   "metadata": {},
   "source": [
    "Parameters and Return Types\n",
    "\n",
    "Parameters:\n",
    "\n",
    "The POST request body must be JSON and include `book_id`.\n",
    "\n",
    "Example body:\n",
    "\n",
    "{\n",
    "  \"book_id\": 1\n",
    "}\n",
    "\n",
    "Return Type: JSON responses are created using `jsonify`, returning:\n",
    "\n",
    "Success messages (`201` or `200` status).\n",
    "\n",
    "Error messages (`400`, `404`, or `415` status).\n",
    "\n",
    "## Making a Request\n"
   ]
  },
  {
   "cell_type": "code",
   "execution_count": null,
   "metadata": {},
   "outputs": [],
   "source": [
    "// Adding a book to the wishlist\n",
    "fetch('/api/wishlist/', {\n",
    "    method: 'POST',\n",
    "    headers: {\n",
    "        'Content-Type': 'application/json'\n",
    "    },\n",
    "    body: JSON.stringify({ book_id: 1 })\n",
    "})\n",
    ".then(response => response.json())\n",
    ".then(data => console.log(data));"
   ]
  }
 ],
 "metadata": {
  "language_info": {
   "name": "python"
  }
 },
 "nbformat": 4,
 "nbformat_minor": 2
}
