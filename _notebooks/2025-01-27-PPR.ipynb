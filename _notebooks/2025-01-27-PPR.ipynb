{
 "cells": [
  {
   "cell_type": "raw",
   "metadata": {
    "vscode": {
     "languageId": "raw"
    }
   },
   "source": [
    "---\n",
    "layout: post\n",
    "title: Sprint 4 Personalized Project Reference\n",
    "permalink: /sprint4_PPR/\n",
    "---"
   ]
  },
  {
   "cell_type": "markdown",
   "metadata": {},
   "source": [
    "## Purpose of our Program: \n",
    "The purpose of our program is for readers to get reccomendations, provide reviews, and find new books to read.\n",
    "\n",
    "### Purpose of my feature:\n",
    "The purpose of my feature, the wishlist, is for readers to be able to keep track of the books that they want to read in the future."
   ]
  },
  {
   "cell_type": "markdown",
   "metadata": {},
   "source": [
    "### Lists\n",
    "Lists are used to handle rows of data, such as when restoring the Wishlist table from a list of dictionaries. Here, data is a list of dictionaries, each representing a row to be added to the database.\n",
    "The restore method iterates over the list and adds each dictionary as a row in the database."
   ]
  },
  {
   "cell_type": "code",
   "execution_count": null,
   "metadata": {},
   "outputs": [],
   "source": [
    "data = [{\"book_id\": 1}, {\"book_id\": 2}, {\"book_id\": 3}]\n",
    "Wishlist.restore(data)"
   ]
  },
  {
   "cell_type": "markdown",
   "metadata": {},
   "source": [
    "### Dictionaries\n",
    "Each dictionary contains column names as keys (id, book_id) and their respective values.\n",
    "This is particularly useful when serializing database objects for use in APIs, such as returning JSON responses."
   ]
  },
  {
   "cell_type": "code",
   "execution_count": null,
   "metadata": {},
   "outputs": [],
   "source": [
    "def read(self):\n",
    "    return {\n",
    "        \"id\": self.id,\n",
    "        \"book_id\": self.book_id,\n",
    "    }"
   ]
  },
  {
   "cell_type": "markdown",
   "metadata": {},
   "source": [
    "### CRUD\n",
    "The function get_wishlist() retrieves all rows from the wishlist table as a list of Wishlist objects. The SQLAlchemy ORM is the third-party library used here."
   ]
  },
  {
   "cell_type": "code",
   "execution_count": null,
   "metadata": {},
   "outputs": [],
   "source": [
    "def get_wishlist():\n",
    "    return Wishlist.query.all()"
   ]
  },
  {
   "cell_type": "markdown",
   "metadata": {},
   "source": [
    "The returned list can be further processed, e.g., converted into a JSON response. This converts the list of Wishlist objects into a list of dictionaries. \n"
   ]
  },
  {
   "cell_type": "code",
   "execution_count": null,
   "metadata": {},
   "outputs": [],
   "source": [
    "wishlist_items = [item.read() for item in get_wishlist()]\n"
   ]
  },
  {
   "cell_type": "markdown",
   "metadata": {},
   "source": [
    "The Wishlist model provides methods for handling individual columns (id, book_id):\n",
    "\n",
    "Create: Using add_to_wishlist(book_id):\n"
   ]
  },
  {
   "cell_type": "code",
   "execution_count": null,
   "metadata": {},
   "outputs": [],
   "source": [
    "item = Wishlist(book_id=book_id)\n",
    "db.session.add(item)\n",
    "db.session.commit()"
   ]
  },
  {
   "cell_type": "markdown",
   "metadata": {},
   "source": [
    "Read: Using read():\n"
   ]
  },
  {
   "cell_type": "code",
   "execution_count": null,
   "metadata": {},
   "outputs": [],
   "source": [
    "wishlist_dict = item.read()\n"
   ]
  },
  {
   "cell_type": "markdown",
   "metadata": {},
   "source": [
    "Delete: Using delete_from_wishlist(book_id):\n"
   ]
  },
  {
   "cell_type": "code",
   "execution_count": null,
   "metadata": {},
   "outputs": [],
   "source": [
    "item = Wishlist.query.filter_by(book_id=book_id).first()\n",
    "db.session.delete(item)\n",
    "db.session.commit()"
   ]
  },
  {
   "cell_type": "markdown",
   "metadata": {},
   "source": [
    "# Algorithmic Code Request\n",
    "\n",
    "## Code Blocks to Handle a Request\n",
    "To handle requests, a Python API class can be created using frameworks like Flask. The class would define methods for handling `GET`, `POST`, `PUT`, and `DELETE` requests, which correspond to the standard HTTP methods used for interacting with resources.\n",
    "\n",
    "### Example API Class\n",
    "```python\n",
    "from flask import Flask, jsonify, request\n",
    "\n",
    "app = Flask(__name__)\n",
    "\n",
    "class API:\n",
    "    def __init__(self):\n",
    "        self.data = {}\n",
    "\n",
    "    def get(self, key):\n",
    "        if key in self.data:\n",
    "            return jsonify({\"key\": key, \"value\": self.data[key]}), 200\n",
    "        return jsonify({\"error\": \"Key not found\"}), 404\n",
    "\n",
    "    def post(self):\n",
    "        body = request.json\n",
    "        key = body.get(\"key\")\n",
    "        value = body.get(\"value\")\n",
    "        if key and value:\n",
    "            self.data[key] = value\n",
    "            return jsonify({\"message\": \"Created successfully\", \"data\": {key: value}}), 201\n",
    "        return jsonify({\"error\": \"Invalid input\"}), 400\n",
    "\n",
    "    def put(self, key):\n",
    "        if key in self.data:\n",
    "            body = request.json\n",
    "            value = body.get(\"value\")\n",
    "            if value:\n",
    "                self.data[key] = value\n",
    "                return jsonify({\"message\": \"Updated successfully\", \"data\": {key: value}}), 200\n",
    "            return jsonify({\"error\": \"Invalid input\"}), 400\n",
    "        return jsonify({\"error\": \"Key not found\"}), 404\n",
    "\n",
    "    def delete(self, key):\n",
    "        if key in self.data:\n",
    "            del self.data[key]\n",
    "            return jsonify({\"message\": \"Deleted successfully\"}), 200\n",
    "        return jsonify({\"error\": \"Key not found\"}), 404\n",
    "\n",
    "api_instance = API()\n",
    "\n",
    "@app.route('/data/<key>', methods=['GET'])\n",
    "def get_data(key):\n",
    "    return api_instance.get(key)\n",
    "\n",
    "@app.route('/data', methods=['POST'])\n",
    "def create_data():\n",
    "    return api_instance.post()\n",
    "\n",
    "@app.route('/data/<key>', methods=['PUT'])\n",
    "def update_data(key):\n",
    "    return api_instance.put(key)\n",
    "\n",
    "@app.route('/data/<key>', methods=['DELETE'])\n",
    "def delete_data(key):\n",
    "    return api_instance.delete(key)\n",
    "\n",
    "if __name__ == '__main__':\n",
    "    app.run(debug=True)\n",
    "```\n",
    "\n",
    "## Method Containing Sequencing, Selection, and Iteration\n",
    "The `post` method demonstrates sequencing, selection, and iteration as follows:\n",
    "- **Sequencing**: The method executes statements in order, such as extracting JSON data, validating input, and updating the dataset.\n",
    "- **Selection**: Conditional checks (e.g., `if key and value`) ensure that only valid input is processed.\n",
    "- **Iteration**: While the method itself does not directly iterate, similar logic could iterate over keys in a batch operation.\n",
    "\n",
    "### Parameters and Return Type\n",
    "- **Parameters**: The `post` method extracts data from the `request.json` object, which includes a `key` and `value`.\n",
    "- **Return Type**: Responses are returned using `jsonify`, which ensures a JSON format response.\n",
    "\n",
    "## Call to Algorithm Request\n",
    "\n",
    "### Definition of Code Block to Make a Request\n",
    "A request to the API can be made using tools like Postman or programmatically using Python's `requests` library.\n",
    "\n",
    "```python\n",
    "import requests\n",
    "\n",
    "# Example POST request\n",
    "response = requests.post('http://localhost:5000/data', json={\"key\": \"example\", \"value\": \"value1\"})\n",
    "print(response.json())\n",
    "\n",
    "# Example GET request\n",
    "response = requests.get('http://localhost:5000/data/example')\n",
    "print(response.json())\n",
    "```\n",
    "\n",
    "## Call/Request to the Method\n",
    "When calling the `post` endpoint:\n",
    "1. The client sends JSON data to the server.\n",
    "2. The server processes the input, updates the `data` dictionary, and returns a success message or error response.\n",
    "\n",
    "### Handling Responses\n",
    "Responses from the API are handled using JSON parsing, allowing client applications to render or act on returned data.\n",
    "\n",
    "## Changing Data or Method to Trigger Responses\n",
    "### Normal Conditions\n",
    "- **POST**: Sending valid key-value pairs updates the dataset and returns a 201 status.\n",
    "- **GET**: Requesting an existing key retrieves the value with a 200 status.\n",
    "\n",
    "### Error Conditions\n",
    "- **POST**: Omitting a `key` or `value` returns a 400 error.\n",
    "- **GET**: Requesting a non-existent key returns a 404 error.\n",
    "\n",
    "### Example Response Handling\n",
    "```python\n",
    "response = requests.get('http://localhost:5000/data/nonexistent')\n",
    "if response.status_code == 404:\n",
    "    print(\"Key not found\")\n",
    "else:\n",
    "    print(response.json())\n",
    "```\n",
    "By adjusting the input or endpoint, different conditions can be tested to ensure robust error handling and consistent functionality.\n",
    "\n"
   ]
  }
 ],
 "metadata": {
  "language_info": {
   "name": "python"
  }
 },
 "nbformat": 4,
 "nbformat_minor": 2
}
