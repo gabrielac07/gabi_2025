{
 "cells": [
  {
   "cell_type": "raw",
   "metadata": {
    "vscode": {
     "languageId": "raw"
    }
   },
   "source": [
    "---\n",
    "layout: post\n",
    "title: Sprint 3 Process\n",
    "description: This is a notebook where I describe the process for Sprint 3.\n",
    "permalink: /sprint3/\n",
    "---"
   ]
  },
  {
   "cell_type": "markdown",
   "metadata": {},
   "source": [
    "## N@TM Comments on our project:\n",
    "https://github.com/Ryan378-code/ryan1_2025/issues/12?notification_referrer_id=NT_kwDOCqwHALUxMzI1NDQxNjk4NToxNzkwNDYxNDQ#issuecomment-2463654835"
   ]
  }
 ],
 "metadata": {
  "language_info": {
   "name": "python"
  }
 },
 "nbformat": 4,
 "nbformat_minor": 2
}
