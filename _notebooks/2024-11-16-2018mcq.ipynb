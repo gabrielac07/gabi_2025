{
 "cells": [
  {
   "cell_type": "raw",
   "metadata": {
    "vscode": {
     "languageId": "raw"
    }
   },
   "source": [
    "---\n",
    "layout: post\n",
    "title: AP Classroom 2018 MCQ\n",
    "description: This is a blog reflection of the College Board MC assignment\n",
    "permalink: /2018_MCQ/\n",
    "comments: true\n",
    "---"
   ]
  },
  {
   "cell_type": "markdown",
   "metadata": {},
   "source": [
    "## Sprint 3 Highlight:\n",
    "Our Sprint 3 page was called The Hungry Games, and it's a space to talk about food recipes and share favorite restaurants. The biggest highlight from Sprint 3 is our chatbox, where people can discuss about food.\n",
    "<br>[Click here to see our page](https://nighthawkcoders.github.io/flocker_frontend/share_and_care/hungry_games)\n",
    "\n",
    "\n",
    "## What did I learn from this quiz?\n",
    "\n",
    "I learned the types of questions that I should expect for the AP Exam. As I was going through the questions, there were new things that I had to learn and know to answer the questions. Specific things I learned about are safety while computing, binary numbers and how they can be applied, and looking at code segments and interpreting them. \n",
    "\n",
    "## What type of questions do you feel you are weak on?\n",
    "\n",
    "I am weaker on topics 3.5 (Booleans), 3.6 (Conditionals), 3.9 (Developing Algorithms), 3.17 (Algorithmic Efficiency), 3.18 (Undecidable Problems), and 5.4 (Crowdsourcing). For all of these topics, I only got 75-50% of the questions right, or they were hard for me to answer. Most of these topics are ones that we didn't cover in class and are mostly conceptual. Many of the questions I got wrong were also looking at lines of code and determining how they function.\n",
    "\n",
    "## Quiz Corrections\n",
    "### Question 3: Which of the following would be the best use of citizen science?\n",
    "<br>My answer: An experiment that requires specialized knowledge and training to conduct\n",
    "<br>Correct answer: An experiment that requires data measurements to be taken in many different locations\n",
    "<br>Explanation:  If data measurements need to be taken from many locations, it would be beneficial to have participants from around the world collect the data.\n",
    "\n",
    "### Question 21: Which of the following code segments will move the robot to the gray square?\n",
    "<br>My answer: MoveXTimes 2, RightXTimes 1, MoveXTimes 3\n",
    "<br>Correct answer: MoveXTimes2, MoveXTimes3, MoveXTimes 3\n",
    "<br>Explanation: This code segment moves the robot forward two squares, rotates it right three times so that the robot faces the top of the grid, and then moves the robot forward three squares to the gray square.\n",
    "\n",
    "### Question 26: Which of the following replacements for missing code can be used to move the robot to the gray square?\n",
    "<br>My answer: C\n",
    "<br>Correct answer: A\n",
    "<br>Explanation: This code segment rotates right whenever there is an open square to the right. The robot will move forward from its initial location to the upper-left corner of the grid, then rotate right, then move forward to the upper-right corner of the grid, then rotate right, then move down two squares, then rotate right, then move forward to the gray square.\n",
    "\n",
    "### Question 37: Which of the following best describes the two code segments?\n",
    "<br>My answer: Code segment II displays the correct average, but code segment I does not.\n",
    "<br>Correct answer: Both code segments display the correct average, but code segment I requires more arithmetic operations than code segment II.\n",
    "<br>Explanation: Both code segments display the correct average. Code segment I requires more arithmetic operations because it performs the operation sum divided by LENGTH (num List) within the loop, while code segment II performs the same operation only once.\n",
    "\n",
    "### Question 43: Based on the values in the table, which of the following best characterizes the algorithm for very large values of n ?\n",
    "<br> My answer: The algorithm runs, but not in reasonable time.\n",
    "<br>Correct answer: The algorithm runs in reasonable time.\n",
    "<br>Explanation: The pattern in the table appears to indicate that there are n squared steps for a list containing n items. This number of steps is a polynomial and therefore the algorithm runs in reasonable time.\n",
    "\n",
    "### Question 45: A NAND gate is a type of logic gate that produces an output of `false` only when both of its two inputs are true. Otherwise, the gate produces an output of `true`. Which of the following Boolean expressions correctly models a NAND gate with inputs P and Q ?\n",
    "<br>My answer: `(NOT P) AND Q`\n",
    "<br>Correct answer: `NOT (P AND Q)`\n",
    "<br>Explanation: The expression `P AND Q` evaluates to true when both P and Q are `true`, and evaluates to `false` otherwise. Therefore, the expression NOT (P AND Q) evaluates to `false` when both P and Q are `true`, and evaluates to `true` otherwise.\n",
    "\n",
    "\n"
   ]
  }
 ],
 "metadata": {
  "language_info": {
   "name": "python"
  }
 },
 "nbformat": 4,
 "nbformat_minor": 2
}
