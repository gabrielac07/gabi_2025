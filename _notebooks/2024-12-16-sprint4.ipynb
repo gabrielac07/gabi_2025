{
 "cells": [
  {
   "cell_type": "raw",
   "metadata": {
    "vscode": {
     "languageId": "raw"
    }
   },
   "source": [
    "---\n",
    "layout: post\n",
    "title: Sprint 4 - Profile Page\n",
    "description: This jupyter notebook demonstrates the features of the Bookworms Profile Page\n",
    "permalink: /sprint4/\n",
    "---"
   ]
  },
  {
   "cell_type": "markdown",
   "metadata": {},
   "source": [
    "# [User story for my feature](https://github.com/gabrielac07/sprint4_frontend/issues/2)\n"
   ]
  },
  {
   "cell_type": "markdown",
   "metadata": {},
   "source": [
    "## Input & Output\n",
    "\n",
    "### Frontend: Updating the Profile\n",
    "These input fields allow the user to edit their profile by providing a new username, name, and password. This demonstrates program functionality by enabling users to provide input that directly impacts the program's behavior and updates their profile data.\n"
   ]
  },
  {
   "cell_type": "code",
   "execution_count": null,
   "metadata": {
    "vscode": {
     "languageId": "html"
    }
   },
   "outputs": [],
   "source": [
    "<div>\n",
    "  <label for=\"newUid\">Enter New UID:</label>\n",
    "  <input type=\"text\" id=\"newUid\" placeholder=\"New UID\">\n",
    "</div>\n",
    "<div>\n",
    "  <label for=\"newName\">Enter New Name:</label>\n",
    "  <input type=\"text\" id=\"newName\" placeholder=\"New Name\">\n",
    "</div>\n",
    "<div>\n",
    "  <label for=\"newPassword\">Enter New Password:</label>\n",
    "  <input type=\"text\" id=\"newPassword\" placeholder=\"New Password\">\n",
    "</div>\n"
   ]
  },
  {
   "cell_type": "markdown",
   "metadata": {},
   "source": [
    "### Backend: Adding a Book to Wishlist\n",
    "This route handles input from a JSON payload (user_id and book_id) and provides meaningful feedback (e.g., success or error messages). It demonstrates input and output by receiving data from the frontend and returning a response that reflects the result of the operation."
   ]
  },
  {
   "cell_type": "code",
   "execution_count": null,
   "metadata": {},
   "outputs": [],
   "source": [
    "@wishlist_api.route('/', methods=['POST'])\n",
    "def add_book_to_wishlist():\n",
    "    if request.is_json:\n",
    "        data = request.get_json()\n",
    "        user_id = data.get('user_id')\n",
    "        book_id = data.get('book_id')\n",
    "\n",
    "        if not user_id or not book_id:\n",
    "            return jsonify({\"error\": \"Missing user_id or book_id\"}), 400\n",
    "        ...\n"
   ]
  },
  {
   "cell_type": "markdown",
   "metadata": {},
   "source": [
    "## Data Abstraction\n",
    "\n",
    "### Frontend: Storing Books from a database\n",
    "The variable predefinedBooks stores a list of books fetched from the backend API. This demonstrates data abstraction by using a variable to represent structured data (book objects) that is dynamically fetched and manipulated.\n",
    "\n"
   ]
  },
  {
   "cell_type": "code",
   "execution_count": null,
   "metadata": {
    "vscode": {
     "languageId": "javascript"
    }
   },
   "outputs": [],
   "source": [
    "let predefinedBooks = [];\n",
    "async function fetchPredefinedBooks() {\n",
    "  const URL = `${pythonURI}/api/books`;\n",
    "  try {\n",
    "    const response = await fetch(URL, fetchOptions);\n",
    "    if (!response.ok) throw new Error(`Failed to fetch books: ${response.status}`);\n",
    "    return await response.json();\n",
    "  } catch (error) {\n",
    "    console.error('Error fetching predefined books:', error.message);\n",
    "    return [];\n",
    "  }\n",
    "}\n"
   ]
  },
  {
   "cell_type": "markdown",
   "metadata": {},
   "source": [
    "### Backend: Wishlist Table\n",
    "The wishlist table abstracts data by organizing user wishlist information (user_id and book_id) into a structured format. This demonstrates data abstraction as the program uses the database to store and retrieve relevant data for user wishlists."
   ]
  },
  {
   "cell_type": "code",
   "execution_count": null,
   "metadata": {},
   "outputs": [],
   "source": [
    "create_wishlist_table = '''\n",
    "CREATE TABLE IF NOT EXISTS wishlist (\n",
    "    id INTEGER PRIMARY KEY AUTOINCREMENT,\n",
    "    user_id INTEGER NOT NULL,\n",
    "    book_id INTEGER NOT NULL,\n",
    "    FOREIGN KEY (book_id) REFERENCES books (id)\n",
    ");\n",
    "'''"
   ]
  },
  {
   "cell_type": "markdown",
   "metadata": {},
   "source": [
    "## Algorithm Implementation\n",
    "\n",
    "### Frontend: Adding a Book to Wishlist\n",
    "This algorithm takes input from the dropdown, validates the selection, sends a POST request to the backend, and refreshes the wishlist upon success. This demonstrates algorithm implementation by combining input validation, API interaction, and dynamic UI updates."
   ]
  },
  {
   "cell_type": "code",
   "execution_count": null,
   "metadata": {
    "vscode": {
     "languageId": "javascript"
    }
   },
   "outputs": [],
   "source": [
    "window.addBookToWishlist = async function () {\n",
    "  const dropdown = document.getElementById('bookDropdown');\n",
    "  const selectedOption = dropdown.options[dropdown.selectedIndex];\n",
    "  const bookId = selectedOption.value;\n",
    "\n",
    "  if (!bookId) {\n",
    "    document.getElementById('profile-message').textContent = 'Please select a book.';\n",
    "    return;\n",
    "  }\n",
    "\n",
    "  const URL = `${pythonURI}/api/wishlist/`;\n",
    "  const body = { user_id: userId, book_id: parseInt(bookId) };\n",
    "\n",
    "  try {\n",
    "    const response = await fetch(URL, {\n",
    "      ...fetchOptions,\n",
    "      method: 'POST',\n",
    "      body: JSON.stringify(body),\n",
    "    });\n",
    "\n",
    "    if (!response.ok) throw new Error(`Failed to add book: ${response.status}`);\n",
    "    userWishlist = await fetchWishlist();\n",
    "    displayWishlist();\n",
    "  } catch (error) {\n",
    "    console.error('Error adding book:', error.message);\n",
    "  }\n",
    "};\n"
   ]
  },
  {
   "cell_type": "markdown",
   "metadata": {},
   "source": [
    "### Backend: Adding a Book to Wishlist\n",
    "This algorithm checks if the book exists, validates that it’s not already in the wishlist, and then inserts it into the database. It demonstrates algorithm implementation by following a clear, step-by-step process to perform the desired operation."
   ]
  },
  {
   "cell_type": "code",
   "execution_count": null,
   "metadata": {},
   "outputs": [],
   "source": [
    "book = conn.execute('SELECT * FROM books WHERE id = ?', (book_id,)).fetchone()\n",
    "if not book:\n",
    "    conn.close()\n",
    "    return jsonify({\"error\": \"Book not found\"}), 404\n",
    "\n",
    "existing_entry = conn.execute(\n",
    "    'SELECT * FROM wishlist WHERE user_id = ? AND book_id = ?',\n",
    "    (user_id, book_id)\n",
    ").fetchone()\n",
    "if existing_entry:\n",
    "    conn.close()\n",
    "    return jsonify({\"message\": \"Book already in wish list\"}), 200\n",
    "\n",
    "conn.execute('INSERT INTO wishlist (user_id, book_id) VALUES (?, ?)', (user_id, book_id))\n",
    "conn.commit()\n",
    "conn.close()\n",
    "return jsonify({\"message\": \"Book added to user's wish list\"}), 201\n"
   ]
  },
  {
   "cell_type": "markdown",
   "metadata": {},
   "source": [
    "## Iteration\n",
    "\n",
    "### Frontend: Displaying Wishlist\n",
    "The displayWishlist function iterates through the userWishlist array to dynamically update the wishlist table. This demonstrates iteration and highlights how the program outputs structured data to the user.\n"
   ]
  },
  {
   "cell_type": "code",
   "execution_count": null,
   "metadata": {
    "vscode": {
     "languageId": "javascript"
    }
   },
   "outputs": [],
   "source": [
    "function displayWishlist() {\n",
    "  const tableBody = document.getElementById('wishlistResult');\n",
    "  tableBody.innerHTML = '';\n",
    "  userWishlist.forEach(book => {\n",
    "    const tr = document.createElement('tr');\n",
    "    const titleCell = document.createElement('td');\n",
    "    const authorCell = document.createElement('td');\n",
    "\n",
    "    titleCell.textContent = book.title;\n",
    "    authorCell.textContent = book.author;\n",
    "\n",
    "    tr.appendChild(titleCell);\n",
    "    tr.appendChild(authorCell);\n",
    "    tableBody.appendChild(tr);\n",
    "  });\n",
    "}\n"
   ]
  },
  {
   "cell_type": "markdown",
   "metadata": {},
   "source": [
    "### Backend: Fetching Wishlist\n",
    "The function uses SQL to fetch all books in the user's wishlist and converts each row into a dictionary using a list comprehension. This demonstrates iteration by processing multiple rows of data to generate the JSON response.\n"
   ]
  },
  {
   "cell_type": "code",
   "execution_count": null,
   "metadata": {},
   "outputs": [],
   "source": [
    "@wishlist_api.route('/<int:user_id>', methods=['GET'])\n",
    "def get_wishlist(user_id):\n",
    "    conn = get_db_connection()\n",
    "    books = conn.execute(\n",
    "        '''\n",
    "        SELECT books.id, books.title, books.author\n",
    "        FROM wishlist\n",
    "        JOIN books ON wishlist.book_id = books.id\n",
    "        WHERE wishlist.user_id = ?\n",
    "        ''',\n",
    "        (user_id,)\n",
    "    ).fetchall()\n",
    "    conn.close()\n",
    "    return jsonify([dict(book) for book in books])\n"
   ]
  },
  {
   "cell_type": "markdown",
   "metadata": {},
   "source": [
    "## Error Handling\n",
    "\n",
    "### Frontend: Providing Feedback\n",
    "Error messages are displayed dynamically in the profile-message element. This demonstrates program purpose and functionality by handling errors and providing user feedback."
   ]
  },
  {
   "cell_type": "code",
   "execution_count": null,
   "metadata": {
    "vscode": {
     "languageId": "javascript"
    }
   },
   "outputs": [],
   "source": [
    "document.getElementById('profile-message').textContent = `Error: ${error.message}`;"
   ]
  },
  {
   "cell_type": "markdown",
   "metadata": {},
   "source": [
    "### Backend: Providing Feedback\n",
    "The code provides detailed error messages when required fields are missing or a book doesn’t exist. This demonstrates program functionality by handling errors gracefully and ensuring clear communication with the frontend."
   ]
  },
  {
   "cell_type": "code",
   "execution_count": null,
   "metadata": {},
   "outputs": [],
   "source": [
    "if not user_id or not book_id:\n",
    "    return jsonify({\"error\": \"Missing user_id or book_id\"}), 400\n",
    "\n",
    "if not book:\n",
    "    conn.close()\n",
    "    return jsonify({\"error\": \"Book not found\"}), 404\n"
   ]
  },
  {
   "cell_type": "markdown",
   "metadata": {},
   "source": [
    "## Program with a list (backend example):\n",
    "The get_wishlist function uses a list of books fetched from the database and returns them as a JSON array. The list comprehension [dict(book) for book in books] processes the rows into dictionaries for easier frontend consumption."
   ]
  },
  {
   "cell_type": "code",
   "execution_count": null,
   "metadata": {},
   "outputs": [],
   "source": [
    "def get_wishlist(user_id):\n",
    "    conn = get_db_connection()\n",
    "    books = conn.execute(\n",
    "        '''\n",
    "        SELECT books.id, books.title, books.author\n",
    "        FROM wishlist\n",
    "        JOIN books ON wishlist.book_id = books.id\n",
    "        WHERE wishlist.user_id = ?\n",
    "        ''',\n",
    "        (user_id,)\n",
    "    ).fetchall()\n",
    "    conn.close()\n",
    "    return jsonify([dict(book) for book in books])\n"
   ]
  },
  {
   "cell_type": "markdown",
   "metadata": {},
   "source": [
    "## Program with a Dictionary (backend example):\n",
    "The add_book_to_wishlist function parses JSON input from the client into a dictionary (data), allowing the program to access specific fields like user_id and book_id. This dictionary enables dynamic, key-based data management."
   ]
  },
  {
   "cell_type": "code",
   "execution_count": null,
   "metadata": {},
   "outputs": [],
   "source": [
    "if request.is_json:\n",
    "    data = request.get_json()\n",
    "    user_id = data.get('user_id')\n",
    "    book_id = data.get('book_id')"
   ]
  }
 ],
 "metadata": {
  "kernelspec": {
   "display_name": "venv",
   "language": "python",
   "name": "python3"
  },
  "language_info": {
   "codemirror_mode": {
    "name": "ipython",
    "version": 3
   },
   "file_extension": ".py",
   "mimetype": "text/x-python",
   "name": "python",
   "nbconvert_exporter": "python",
   "pygments_lexer": "ipython3",
   "version": "3.12.3"
  }
 },
 "nbformat": 4,
 "nbformat_minor": 2
}
