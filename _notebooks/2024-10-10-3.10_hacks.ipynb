{
 "cells": [
  {
   "cell_type": "raw",
   "metadata": {
    "vscode": {
     "languageId": "raw"
    }
   },
   "source": [
    "---\n",
    "layout: post\n",
    "title: 3.8 Hacks\n",
    "description: This contains the hacks and homework for Sprint 2\n",
    "permalink: /hacks-3.8/\n",
    "---"
   ]
  },
  {
   "cell_type": "markdown",
   "metadata": {},
   "source": [
    "## 3.10 Hacks and Homework\n",
    "\n",
    "### Popcorn Hack 1: \n",
    "If you have a Python list of numbers, but want to keep certain numbers (EX: even ones), you can actually use what is called a \"list comprehension.\" What this essentially does is it creates another list, but you can apply a filter or operation to it to help you get specific outputs."
   ]
  },
  {
   "cell_type": "code",
   "execution_count": null,
   "metadata": {},
   "outputs": [],
   "source": [
    "# List of numbers\n",
    "numbers = [1, 2, 3, 4, 5, 6, 7, 8, 9, 10]\n",
    "\n",
    "# Popcorn Hack: Using list comprehension to filter even numbers\n",
    "even_numbers = [num for num in numbers if num % 2 == 0]\n",
    "\n",
    "# Popcorn Hack Extension: Filter even numbers and square them\n",
    "squared_even_numbers = [num**2 for num in even_numbers]\n",
    "\n",
    "# Print the results\n",
    "print(f\"Original List: {numbers}\")\n",
    "print(f\"Even Numbers: {even_numbers}\")\n",
    "print(f\"Squared Even Numbers: {squared_even_numbers}\")\n"
   ]
  },
  {
   "cell_type": "markdown",
   "metadata": {
    "vscode": {
     "languageId": "raw"
    }
   },
   "source": [
    "### Homework Hack #1: \n",
    "- Create a program that lets users manage a list of their choosing. Users can add elements, remove them, check if an element exists, and display the current list.\n",
    "- A function that can find the maximum and minimum value of a list using iteration."
   ]
  },
  {
   "cell_type": "code",
   "execution_count": null,
   "metadata": {},
   "outputs": [],
   "source": [
    "# Initialize an empty list\n",
    "user_list = []\n",
    "\n",
    "# Function to add elements to the list\n",
    "def add_element(element):\n",
    "    user_list.append(element)\n",
    "    print(f\"Added {element} to the list.\")\n",
    "\n",
    "# Function to remove elements from the list\n",
    "def remove_element(element):\n",
    "    if element in user_list:\n",
    "        user_list.remove(element)\n",
    "        print(f\"Removed {element} from the list.\")\n",
    "    else:\n",
    "        print(f\"{element} is not in the list.\")\n",
    "\n",
    "# Function to check if an element exists in the list\n",
    "def check_element(element):\n",
    "    if element in user_list:\n",
    "        print(f\"{element} exists in the list.\")\n",
    "    else:\n",
    "        print(f\"{element} does not exist in the list.\")\n",
    "\n",
    "# Function to display the current list\n",
    "def display_list():\n",
    "    if user_list:\n",
    "        print(f\"Current list: {user_list}\")\n",
    "    else:\n",
    "        print(\"The list is empty.\")\n",
    "\n",
    "# Function to find the maximum and minimum values in the list using iteration\n",
    "def find_max_min():\n",
    "    if not user_list:\n",
    "        print(\"The list is empty, no max or min values.\")\n",
    "        return\n",
    "    max_value = min_value = user_list[0]\n",
    "    \n",
    "    for item in user_list:\n",
    "        if item > max_value:\n",
    "            max_value = item\n",
    "        if item < min_value:\n",
    "            min_value = item\n",
    "    \n",
    "    print(f\"Maximum value: {max_value}\")\n",
    "    print(f\"Minimum value: {min_value}\")\n",
    "\n",
    "# User interaction loop\n",
    "while True:\n",
    "    print(\"\\nMenu: \")\n",
    "    print(\"1. Add an element\")\n",
    "    print(\"2. Remove an element\")\n",
    "    print(\"3. Check if an element exists\")\n",
    "    print(\"4. Display the list\")\n",
    "    print(\"5. Find the maximum and minimum values\")\n",
    "    print(\"6. Exit\")\n",
    "\n",
    "    choice = input(\"Choose an option (1-6): \")\n",
    "    \n",
    "    if choice == '1':\n",
    "        element = input(\"Enter the element to add: \")\n",
    "        add_element(element)\n",
    "    elif choice == '2':\n",
    "        element = input(\"Enter the element to remove: \")\n",
    "        remove_element(element)\n",
    "    elif choice == '3':\n",
    "        element = input(\"Enter the element to check: \")\n",
    "        check_element(element)\n",
    "    elif choice == '4':\n",
    "        display_list()\n",
    "    elif choice == '5':\n",
    "        find_max_min()\n",
    "    elif choice == '6':\n",
    "        print(\"Exiting the program.\")\n",
    "        break\n",
    "    else:\n",
    "        print(\"Invalid choice. Please try again.\")\n"
   ]
  },
  {
   "cell_type": "markdown",
   "metadata": {},
   "source": [
    "### Popcorn Hack #2: \n",
    "- All it takes to perform some complex calculations is one method. reduce() sums all the numbers in a given array. More specifically, reduce() takes a callback function (basically a function that can be referenced in later bits of code), which processes all the items in a given array. Create a list that uses this function.\n",
    "- Now create another array containing the integers: 3, 4, 8, 9, 1, 80, and 77. Put these integers in RANDOM ORDER. This will be the second popcorn hack. Now use the sort() method to reorganize these integers in numerical order. Now do the same thing again, but this time write out the integers using words. Sort these alphabetically."
   ]
  },
  {
   "cell_type": "code",
   "execution_count": null,
   "metadata": {},
   "outputs": [],
   "source": [
    "from functools import reduce\n",
    "import random\n",
    "\n",
    "# Part 1: Using reduce() to sum all the numbers in a list\n",
    "numbers = [10, 20, 30, 40, 50]\n",
    "\n",
    "# Using reduce() to calculate the sum of the numbers\n",
    "total_sum = reduce(lambda x, y: x + y, numbers)\n",
    "\n",
    "print(f\"Sum of the numbers in the list: {total_sum}\")\n",
    "\n",
    "\n",
    "# Part 2: Popcorn Hack - Shuffle and sort numbers\n",
    "# Create an array with integers in random order\n",
    "random_numbers = [3, 4, 8, 9, 1, 80, 77]\n",
    "random.shuffle(random_numbers)  # Randomize the order\n",
    "\n",
    "print(f\"\\nShuffled Numbers: {random_numbers}\")\n",
    "\n",
    "# Sort the numbers in numerical order\n",
    "sorted_numbers = sorted(random_numbers)\n",
    "print(f\"Sorted Numbers (Numerical Order): {sorted_numbers}\")\n",
    "\n",
    "# Popcorn Hack - Sorting integers written as words alphabetically\n",
    "number_words = ['three', 'four', 'eight', 'nine', 'one', 'eighty', 'seventy-seven']\n",
    "\n",
    "# Sorting the words alphabetically\n",
    "sorted_words = sorted(number_words)\n",
    "print(f\"\\nSorted Words (Alphabetical Order): {sorted_words}\")"
   ]
  },
  {
   "cell_type": "markdown",
   "metadata": {},
   "source": [
    "### Javascript Hack: \n",
    "- It's time to go shopping! Try to create a program that allows users to manage items using an array, which can be visually represented with a shopping cart.\n",
    "- While not necessary, feel free to show the cart filling up with icons (items) as the user adds or subtracts items."
   ]
  },
  {
   "cell_type": "code",
   "execution_count": null,
   "metadata": {
    "vscode": {
     "languageId": "javascript"
    }
   },
   "outputs": [],
   "source": [
    "// Shopping Cart Management System\n",
    "\n",
    "// Initialize an empty shopping cart\n",
    "let shoppingCart = [];\n",
    "\n",
    "// Function to add an item to the cart\n",
    "function addItem(item) {\n",
    "    shoppingCart.push(item);\n",
    "    console.log(`Added ${item} to your cart.`);\n",
    "    displayCart();\n",
    "}\n",
    "\n",
    "// Function to remove an item from the cart\n",
    "function removeItem(item) {\n",
    "    const index = shoppingCart.indexOf(item);\n",
    "    if (index > -1) {\n",
    "        shoppingCart.splice(index, 1);\n",
    "        console.log(`Removed ${item} from your cart.`);\n",
    "    } else {\n",
    "        console.log(`${item} is not in your cart.`);\n",
    "    }\n",
    "    displayCart();\n",
    "}\n",
    "\n",
    "// Function to display the current items in the cart\n",
    "function displayCart() {\n",
    "    if (shoppingCart.length === 0) {\n",
    "        console.log(\"Your shopping cart is empty.\");\n",
    "    } else {\n",
    "        const cartDisplay = shoppingCart.map(item => getEmoji(item)).join(' ');\n",
    "        console.log(`Your shopping cart: ${cartDisplay}`);\n",
    "    }\n",
    "}\n",
    "\n",
    "// Function to get emoji representation for each item\n",
    "function getEmoji(item) {\n",
    "    const emojis = {\n",
    "        'apple': '🍎',\n",
    "        'banana': '🍌',\n",
    "        'orange': '🍊',\n",
    "        'grapes': '🍇',\n",
    "        'bread': '🍞',\n",
    "        'milk': '🥛'\n",
    "    };\n",
    "    return emojis[item] || '❓'; // Default emoji if item not found\n",
    "}\n",
    "\n",
    "// User interaction (for demonstration, replace with prompts or UI in real use)\n",
    "addItem('apple');\n",
    "addItem('banana');\n",
    "removeItem('orange');  // Item not in cart\n",
    "addItem('orange');\n",
    "removeItem('apple');\n",
    "addItem('grapes');\n",
    "addItem('milk');\n",
    "removeItem('banana');\n",
    "\n",
    "// Final display of the cart\n",
    "displayCart();\n"
   ]
  }
 ],
 "metadata": {
  "language_info": {
   "name": "python"
  }
 },
 "nbformat": 4,
 "nbformat_minor": 2
}
