{
 "cells": [
  {
   "cell_type": "raw",
   "id": "c0694a48",
   "metadata": {
    "vscode": {
     "languageId": "raw"
    }
   },
   "source": [
    "---\n",
    "layout: notebook\n",
    "title: My interests\n",
    "description: This is a Jupyter Notebook where I put links to topics that interest me. I also formatted my message with emojis.\n",
    "permalink: /interests/\n",
    "---"
   ]
  },
  {
   "cell_type": "code",
   "execution_count": 1,
   "id": "b6e031a3",
   "metadata": {
    "vscode": {
     "languageId": "html"
    }
   },
   "outputs": [
    {
     "data": {
      "text/html": [
       "\n",
       "<!DOCTYPE html>\n",
       "<html lang=\"en\">\n",
       "<head>\n",
       "    <meta charset=\"UTF-8\">\n",
       "    <meta name=\"viewport\" content=\"width=device-width, initial-scale=1.0\">\n",
       "    <title>Buttons</title>\n",
       "    <style>\n",
       "        .button-container {\n",
       "            display: flex;\n",
       "            justify-content: center;\n",
       "            gap: 20px;\n",
       "            margin-top: 50px;\n",
       "        }\n",
       "\n",
       "        .btn {\n",
       "            display: inline-block;\n",
       "            padding: 10px 20px;\n",
       "            font-size: 16px;\n",
       "            font-weight: bold;\n",
       "            color: white;\n",
       "            text-align: center;\n",
       "            text-decoration: none;\n",
       "            border-radius: 5px;\n",
       "            border: none;\n",
       "            cursor: pointer;\n",
       "            transition: background 0.3s ease, transform 0.2s ease;\n",
       "        }\n",
       "\n",
       "        .btn-1 {\n",
       "            background-color: #155f91;\n",
       "        }\n",
       "\n",
       "        .btn-1:hover {\n",
       "            background-color: #15935d;\n",
       "            transform: scale(1.1);\n",
       "        }\n",
       "\n",
       "        .btn-2 {\n",
       "            background-color: #155f91;\n",
       "        }\n",
       "\n",
       "        .btn-2:hover {\n",
       "            background-color: #15935d;\n",
       "            transform: scale(1.1);\n",
       "        }\n",
       "\n",
       "        .btn-3 {\n",
       "            background-color: #155f91;\n",
       "        }\n",
       "\n",
       "        .btn-3:hover {\n",
       "            background-color: #15935d;\n",
       "            transform: scale(1.1);\n",
       "        }\n",
       "    </style>\n",
       "</head>\n",
       "<body>\n",
       "    <div class=\"button-container\">\n",
       "        <button class=\"btn btn-1\" onclick=\"window.location.href='http://127.0.0.1:4100/gabi_2025/tennis/'\">Tennis</button>\n",
       "        <button class=\"btn btn-2\" onclick=\"window.location.href='http://127.0.0.1:4100/gabi_2025/spaniels/'\">Spaniels</button>\n",
       "        <button class=\"btn btn-3\" onclick=\"window.location.href='http://127.0.0.1:4100/gabi_2025/brazil/'\">Brazil</button>\n",
       "    </div>\n",
       "</body>\n",
       "</html>\n"
      ],
      "text/plain": [
       "<IPython.core.display.HTML object>"
      ]
     },
     "metadata": {},
     "output_type": "display_data"
    }
   ],
   "source": [
    "from IPython.core.display import HTML\n",
    "\n",
    "html_code = '''\n",
    "<!DOCTYPE html>\n",
    "<html lang=\"en\">\n",
    "<head>\n",
    "    <meta charset=\"UTF-8\">\n",
    "    <meta name=\"viewport\" content=\"width=device-width, initial-scale=1.0\">\n",
    "    <title>Buttons</title>\n",
    "    <style>\n",
    "        .button-container {\n",
    "            display: flex;\n",
    "            justify-content: center;\n",
    "            gap: 20px;\n",
    "            margin-top: 50px;\n",
    "        }\n",
    "\n",
    "        .btn {\n",
    "            display: inline-block;\n",
    "            padding: 10px 20px;\n",
    "            font-size: 16px;\n",
    "            font-weight: bold;\n",
    "            color: white;\n",
    "            text-align: center;\n",
    "            text-decoration: none;\n",
    "            border-radius: 5px;\n",
    "            border: none;\n",
    "            cursor: pointer;\n",
    "            transition: background 0.3s ease, transform 0.2s ease;\n",
    "        }\n",
    "\n",
    "        .btn-1 {\n",
    "            background-color: #155f91;\n",
    "        }\n",
    "\n",
    "        .btn-1:hover {\n",
    "            background-color: #15935d;\n",
    "            transform: scale(1.1);\n",
    "        }\n",
    "\n",
    "        .btn-2 {\n",
    "            background-color: #155f91;\n",
    "        }\n",
    "\n",
    "        .btn-2:hover {\n",
    "            background-color: #15935d;\n",
    "            transform: scale(1.1);\n",
    "        }\n",
    "\n",
    "        .btn-3 {\n",
    "            background-color: #155f91;\n",
    "        }\n",
    "\n",
    "        .btn-3:hover {\n",
    "            background-color: #15935d;\n",
    "            transform: scale(1.1);\n",
    "        }\n",
    "    </style>\n",
    "</head>\n",
    "<body>\n",
    "    <div class=\"button-container\">\n",
    "        <button class=\"btn btn-1\" onclick=\"window.location.href='http://127.0.0.1:4100/gabi_2025/tennis/'\">Tennis</button>\n",
    "        <button class=\"btn btn-2\" onclick=\"window.location.href='http://127.0.0.1:4100/gabi_2025/spaniels/'\">Spaniels</button>\n",
    "        <button class=\"btn btn-3\" onclick=\"window.location.href='http://127.0.0.1:4100/gabi_2025/brazil/'\">Brazil</button>\n",
    "    </div>\n",
    "</body>\n",
    "</html>\n",
    "'''\n",
    "\n",
    "# Display the HTML in Jupyter\n",
    "display(HTML(html_code))\n"
   ]
  },
  {
   "cell_type": "code",
   "execution_count": 2,
   "id": "11829e08",
   "metadata": {},
   "outputs": [
    {
     "name": "stdout",
     "output_type": "stream",
     "text": [
      "👍 Python is awesome! 😀\n",
      "Python is fun 🐍\n",
      "Hello, world! :earth_americas:\n",
      "I love coding 💻 :heart:\n"
     ]
    }
   ],
   "source": [
    "from emoji import emojize\n",
    "print(emojize(\":thumbs_up: Python is awesome! :grinning_face:\"))\n",
    "print(emojize(\"Python is fun :snake:\"))\n",
    "print(emojize(\"Hello, world! :earth_americas:\"))\n",
    "print(emojize(\"I love coding :laptop: :heart:\"))"
   ]
  }
 ],
 "metadata": {
  "kernelspec": {
   "display_name": "Python 3 (ipykernel)",
   "language": "python",
   "name": "python3"
  },
  "language_info": {
   "codemirror_mode": {
    "name": "ipython",
    "version": 3
   },
   "file_extension": ".py",
   "mimetype": "text/x-python",
   "name": "python",
   "nbconvert_exporter": "python",
   "pygments_lexer": "ipython3",
   "version": "3.12.3"
  }
 },
 "nbformat": 4,
 "nbformat_minor": 5
}
