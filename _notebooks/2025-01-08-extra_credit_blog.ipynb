{
 "cells": [
  {
   "cell_type": "raw",
   "metadata": {
    "vscode": {
     "languageId": "raw"
    }
   },
   "source": [
    "---\n",
    "layout: post\n",
    "title: Extra Credit blog\n",
    "permalink: /extra_credit/\n",
    "---"
   ]
  },
  {
   "cell_type": "markdown",
   "metadata": {},
   "source": [
    "Something I got out of the student panel was that when they were showcasing their code in their CS classes, the teachers didn't really care much for whether or not the code was working. They wanted to make sure you knew what it did and how it was supposed to work. That is something I want to make sure I do enough of it because it's important to know what is happening in your code and not to copy and paste it. I also thought it was interesting how they stress the importance of flowcharts and planning. That is a skill I can improve on and use in the future and make sure it's detailed before I even start programming. Something non CS related that I wanted to use to apply to college is checking the types of classes a university has to offer, and writing about how I am interested in it or how it will benefit me.\n"
   ]
  },
  {
   "cell_type": "markdown",
   "metadata": {},
   "source": [
    "- find something they said that should be applied\n",
    "\n",
    "notes: \n",
    "- building and taking apart things\n",
    "- project based learning \n",
    "- focus on how the code works\n",
    "- github and flowcharts are really important\n",
    "- teamwork is really important\n",
    "- transferring ap credits - it's good to go to a college that isn't an ivy league and get credit\n",
    "- balancing technical and social stuff\n",
    "- look at major and what the university offers\n",
    "- colleges don't look at grades, they look at what you've done\n",
    "- projects are something you can take with you into college\n",
    "- quality over quantity, specifically clubs\n"
   ]
  }
 ],
 "metadata": {
  "language_info": {
   "name": "python"
  }
 },
 "nbformat": 4,
 "nbformat_minor": 2
}
