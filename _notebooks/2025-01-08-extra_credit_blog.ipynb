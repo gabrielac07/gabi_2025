{
 "cells": [
  {
   "cell_type": "raw",
   "metadata": {
    "vscode": {
     "languageId": "raw"
    }
   },
   "source": [
    "---\n",
    "layout: post\n",
    "title: Extra Credit blog\n",
    "permalink: /extra_credit/\n",
    "---"
   ]
  },
  {
   "cell_type": "markdown",
   "metadata": {},
   "source": [
    "Something I got out of the student panel was that when they were showcasing their code in their CS classes, the teachers didn't really care much for whether or not the code was working. They wanted to make sure you knew what it did and how it was supposed to work. That is something I want to make sure I do enough of it because it's important to know what is happening in your code and not to just copy and paste it. It also can make me a better programmer and I can use this skill to my advantage to do well in the College Board Exam. I also thought it was interesting how they stress the importance of flowcharts and planning. They are really stressed in this class, and to know that students took the tool of flowcharts into their college classes helps cement the importance of them. That is a skill I can improve on and use in the future and make sure my flowcharts, user stories, and kanban boards are detailed before I even start programming. Something non CS related that I wanted to use to apply to college is checking the types of classes a university has to offer, and writing about how I am interested in it or how it will benefit me. I think that is a helpful trick when writing college essays and will give me ideas when trying to write one. It will also help me realize if that college is right for me.\n"
   ]
  },
  {
   "cell_type": "markdown",
   "metadata": {},
   "source": [
    "Proof of Attendance:\n",
    "![My Image](../images/extra_credit.jpg)\n"
   ]
  }
 ],
 "metadata": {
  "kernelspec": {
   "display_name": "venv",
   "language": "python",
   "name": "python3"
  },
  "language_info": {
   "name": "python",
   "version": "3.12.3"
  }
 },
 "nbformat": 4,
 "nbformat_minor": 2
}
