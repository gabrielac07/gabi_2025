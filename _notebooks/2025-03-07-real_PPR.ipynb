{
 "cells": [
  {
   "cell_type": "raw",
   "metadata": {
    "vscode": {
     "languageId": "raw"
    }
   },
   "source": [
    "---\n",
    "layout: post\n",
    "title: Personalized Project Reference\n",
    "permalink: /real_PPR/\n",
    "---"
   ]
  },
  {
   "cell_type": "markdown",
   "metadata": {},
   "source": [
    "## Procedure:\tCapture and paste two program code segments you developed during the administration of this task that contain a student-developed procedure that implements an algorithm used in your program and a call to that procedure.\n",
    "### i.\tThe first-program code segment must be a student-developed procedure that:\n",
    "### Defines the procedure's name and return type (if necessary)\n",
    "### Contains and uses one or more parameters that have an effect on the functionality of the procedure\n",
    "### Implements an algorithm that includes sequencing, selection and iteration\n",
    "### ii.\tThe second program code segment must show where your student-developed procedure is being called in your program.\n",
    "\n",
    "i. This is the `get_user_wishlist()` function. It:\n",
    "Defines a procedure named `get_user_wishlist()` with a return type of JSON.\n",
    "Uses the current_user parameter indirectly via `g.current_user` for user-specific access.\n",
    "Implements an algorithm with Sequencing, Selection, and Iteration.\n",
    "python\n"
   ]
  },
  {
   "cell_type": "code",
   "execution_count": null,
   "metadata": {},
   "outputs": [],
   "source": [
    "@wishlist_api.route('/', methods=['GET'])\n",
    "@token_required()\n",
    "def get_user_wishlist():\n",
    "    \"\"\"Retrieve all books in the user's wishlist.\"\"\"\n",
    "    current_user = g.current_user\n",
    "    wishlist_items = get_wishlist(current_user._uid)  # Fetch all wishlist entries for the current user\n",
    "    books_in_wishlist = []\n",
    "    for item in wishlist_items:\n",
    "        book = Book.query.get(item.book_id)\n",
    "        if book:  # Selection\n",
    "            books_in_wishlist.append({\n",
    "                'id': item.id,\n",
    "                'book_id': book.id,\n",
    "                'title': book.title,\n",
    "                'author': book.author,\n",
    "                'status': item.status,\n",
    "                'date_added': item.date_added.strftime('%Y-%m-%d'),  # Format date to exclude time\n",
    "                'availability': item.availability\n",
    "            })  # Sequencing & Iteration\n",
    "    return jsonify(books_in_wishlist)\n"
   ]
  },
  {
   "cell_type": "markdown",
   "metadata": {},
   "source": [
    "ii. Here, the `get_user_wishlist()` function is called whenever a user makes a GET request to the /api/wishlist/ endpoint."
   ]
  },
  {
   "cell_type": "code",
   "execution_count": null,
   "metadata": {},
   "outputs": [],
   "source": [
    "@wishlist_api.route('/', methods=['GET'])\n",
    "@token_required()\n",
    "def get_user_wishlist():\n"
   ]
  },
  {
   "cell_type": "markdown",
   "metadata": {},
   "source": [
    "## List:\tCapture and paste two program code segments you developed during the administration of this task that contain a list (or other collection type) being used to manage complexity in your program.\n",
    "### i.\tThe first program code segment must show how data have been stored in the list.\n",
    "### ii.\tThe second program code segment must show the data in the same list being used, such as creating new data from the existing data or accessing multiple elements in the list, as part of fulfilling the program's purpose.\n",
    "\n",
    "i. The `books_list` variable stores all books retrieved from the database.\n"
   ]
  },
  {
   "cell_type": "code",
   "execution_count": null,
   "metadata": {},
   "outputs": [],
   "source": [
    "@wishlist_api.route('/books', methods=['GET'])\n",
    "def get_books():\n",
    "    \"\"\"Retrieve all books from the database to display in a dropdown menu.\"\"\"\n",
    "    books = Book.query.all()  # Retrieves all books from the database\n",
    "    books_list = [{'id': book.id, 'title': book.title, 'author': book.author} for book in books]\n",
    "    return jsonify(books_list)\n"
   ]
  },
  {
   "cell_type": "markdown",
   "metadata": {},
   "source": [
    "ii. The `books_in_wishlist` list is created by iterating over the wishlist_items and appending books to the list."
   ]
  },
  {
   "cell_type": "code",
   "execution_count": null,
   "metadata": {},
   "outputs": [],
   "source": [
    "books_in_wishlist = []\n",
    "for item in wishlist_items:\n",
    "    book = Book.query.get(item.book_id)\n",
    "    if book:\n",
    "        books_in_wishlist.append({\n",
    "            'id': item.id,\n",
    "            'book_id': book.id,\n",
    "            'title': book.title,\n",
    "            'author': book.author,\n",
    "            'status': item.status,\n",
    "            'date_added': item.date_added.strftime('%Y-%m-%d'),\n",
    "            'availability': item.availability\n",
    "        })\n"
   ]
  }
 ],
 "metadata": {
  "language_info": {
   "name": "python"
  }
 },
 "nbformat": 4,
 "nbformat_minor": 2
}
