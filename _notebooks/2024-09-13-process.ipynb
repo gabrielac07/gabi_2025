{
 "cells": [
  {
   "cell_type": "raw",
   "id": "49a3466a",
   "metadata": {
    "vscode": {
     "languageId": "raw"
    }
   },
   "source": [
    "---\n",
    "layout: post\n",
    "title: Process\n",
    "description: This is a notebook where I describe the steps to making my Github page.\n",
    "permalink: /process/\n",
    "---"
   ]
  },
  {
   "cell_type": "code",
   "execution_count": 2,
   "id": "2ec32729-a38d-4f90-b6a9-7b48197e6d03",
   "metadata": {},
   "outputs": [
    {
     "name": "stdout",
     "output_type": "stream",
     "text": [
      "Steps to Download All the Tools:\n",
      "- Set up and install Ubuntu Linux for Windows\n",
      "- Install VS Code\n",
      "  - Add to PATH and install 'Remote Development extension pack'\n",
      "- Clone the portfolio_2025 repository\n",
      "- Perform version checks and fix problems that came up\n",
      "- Set up GitHub email and username to connect commits to GitHub account\n",
      "- Git clone the project directory and create a virtual environment (venv)\n",
      "- Install packages from requirements.txt\n",
      "- Run 'bundle install' and fix any errors\n",
      "- Activate the virtual environment in the project and open it in VS Code\n",
      "- Run the 'make' command\n",
      "  - If it doesn't work, reinstall Ruby and nbconvert\n",
      "\n",
      "hello world\n",
      "Steps to Create the Webpage:\n",
      "- Clone the repository and open it in VS Code\n",
      "- Customize the 'About' page\n",
      "- Create a page called 'tools' and add it to the navigation bar\n",
      "- Add Mario to the homepage\n",
      "- Create three buttons that lead to different pages\n",
      "- Change the theme and fix details\n",
      "- Go through the checklist and add more hacks\n",
      "\n",
      " Main Difficulties:\n",
      "- Downloading the right tools, especially Jupyter and Ruby\n",
      "- Getting the 'make' command to work\n",
      "- Changing and customizing the theme\n"
     ]
    }
   ],
   "source": [
    "\n",
    "def setup_tools():\n",
    "    \n",
    "    print(\"Steps to Download All the Tools:\")\n",
    "    \n",
    "    print(\"- Set up and install Ubuntu Linux for Windows\")\n",
    "    \n",
    "    print(\"- Install VS Code\")\n",
    "    print(\"  - Add to PATH and install 'Remote Development extension pack'\")\n",
    "    \n",
    "    print(\"- Clone the portfolio_2025 repository\")\n",
    "    \n",
    "    print(\"- Perform version checks and fix problems that came up\")\n",
    "    \n",
    "    print(\"- Set up GitHub email and username to connect commits to GitHub account\")\n",
    "    \n",
    "    print(\"- Git clone the project directory and create a virtual environment (venv)\")\n",
    "    \n",
    "    print(\"- Install packages from requirements.txt\")\n",
    "    \n",
    "    print(\"- Run 'bundle install' and fix any errors\")\n",
    "    \n",
    "    print(\"- Activate the virtual environment in the project and open it in VS Code\")\n",
    "    \n",
    "    print(\"- Run the 'make' command\")\n",
    "    print(\"  - If it doesn't work, reinstall Ruby and nbconvert\")\n",
    "    print()\n",
    "    print(\"hello world\")\n",
    "\n",
    "\n",
    "def create_webpage():\n",
    "    \n",
    "    print(\"Steps to Create the Webpage:\")\n",
    "    \n",
    "    print(\"- Clone the repository and open it in VS Code\")\n",
    "    \n",
    "    print(\"- Customize the 'About' page\")\n",
    "    \n",
    "    print(\"- Create a page called 'tools' and add it to the navigation bar\")\n",
    "    \n",
    "    print(\"- Add Mario to the homepage\")\n",
    "    \n",
    "    print(\"- Create three buttons that lead to different pages\")\n",
    "    \n",
    "    print(\"- Change the theme and fix details\")\n",
    "    \n",
    "    print(\"- Go through the checklist and add more hacks\")\n",
    "    print()\n",
    "\n",
    "\n",
    "def main_difficulties():\n",
    "    \n",
    "    print(\" Main Difficulties:\")\n",
    "    \n",
    "    print(\"- Downloading the right tools, especially Jupyter and Ruby\")\n",
    "    \n",
    "    print(\"- Getting the 'make' command to work\")\n",
    "    \n",
    "    print(\"- Changing and customizing the theme\")\n",
    "\n",
    "setup_tools()\n",
    "create_webpage()\n",
    "main_difficulties()\n"
   ]
  }
 ],
 "metadata": {
  "kernelspec": {
   "display_name": "Python 3 (ipykernel)",
   "language": "python",
   "name": "python3"
  },
  "language_info": {
   "codemirror_mode": {
    "name": "ipython",
    "version": 3
   },
   "file_extension": ".py",
   "mimetype": "text/x-python",
   "name": "python",
   "nbconvert_exporter": "python",
   "pygments_lexer": "ipython3",
   "version": "3.12.3"
  }
 },
 "nbformat": 4,
 "nbformat_minor": 5
}
