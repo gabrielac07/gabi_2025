{
 "cells": [
  {
   "cell_type": "raw",
   "metadata": {
    "vscode": {
     "languageId": "raw"
    }
   },
   "source": [
    "---\n",
    "layout: post\n",
    "title: 3.8 Hacks\n",
    "description: This contains the hacks and homework for Sprint 2\n",
    "permalink: /hacks-3.8/\n",
    "---"
   ]
  },
  {
   "cell_type": "markdown",
   "metadata": {},
   "source": [
    "## 3.8 Hacks\n",
    "\n",
    "### Homework Hack 1: \n",
    "- Create a function to calculate the factorial of a number.\n",
    "- Inside the function, use recursion (calling the function within itself) to continue the calculation.\n",
    "- Display the result of the factorial calculation along with a custom message.\n",
    "- Ensure to handle base cases and edge cases like negative or non-integer inputs.\n",
    "- Find the factorial of any number ranging from 9-13 and make sure the output message makes sense."
   ]
  },
  {
   "cell_type": "code",
   "execution_count": null,
   "metadata": {},
   "outputs": [],
   "source": [
    "# Function to calculate factorial of a number\n",
    "def factorial(n):\n",
    "    # Base case for recursion\n",
    "    if n == 0 or n == 1:\n",
    "        return 1\n",
    "    # Error handling for negative or non-integer inputs\n",
    "    elif n < 0:\n",
    "        return \"Error: Factorial is not defined for negative numbers.\"\n",
    "    elif not isinstance(n, int):\n",
    "        return \"Error: Factorial is only defined for integers.\"\n",
    "    else:\n",
    "        # Recursive case\n",
    "        return n * factorial(n - 1)\n",
    "\n",
    "# Function to display the result with a custom message\n",
    "def display_factorial(n):\n",
    "    result = factorial(n)\n",
    "    if isinstance(result, int):  # Ensure the result is valid\n",
    "        print(f\"The factorial of {n} is {result}. That's an impressive number!\")\n",
    "    else:\n",
    "        print(result)\n",
    "\n",
    "# Test the function with numbers ranging from 9 to 13\n",
    "for num in range(9, 14):\n",
    "    display_factorial(num)\n"
   ]
  },
  {
   "cell_type": "markdown",
   "metadata": {},
   "source": [
    "### Popcorn Hack: Find numbers divisible by 2.\n"
   ]
  },
  {
   "cell_type": "code",
   "execution_count": null,
   "metadata": {},
   "outputs": [],
   "source": [
    "# Function to find numbers divisible by 2 within a given range\n",
    "def divisible_by_2(start, end):\n",
    "    # Edge case handling: Check if start or end are non-integers\n",
    "    if not isinstance(start, int) or not isinstance(end, int):\n",
    "        return \"Error: Both start and end values must be integers.\"\n",
    "    \n",
    "    # Edge case: Handle if start is greater than end\n",
    "    if start > end:\n",
    "        return \"Error: Start value cannot be greater than end value.\"\n",
    "\n",
    "    # Create a list to store numbers divisible by 2\n",
    "    divisible_numbers = []\n",
    "\n",
    "    # Loop through the range to find numbers divisible by 2\n",
    "    for num in range(start, end + 1):\n",
    "        if num % 2 == 0:\n",
    "            divisible_numbers.append(num)\n",
    "\n",
    "    return divisible_numbers\n",
    "\n",
    "# Function to display the result with a custom message\n",
    "def display_divisible_by_2(start, end):\n",
    "    result = divisible_by_2(start, end)\n",
    "    if isinstance(result, list):\n",
    "        if result:  # Check if the list is not empty\n",
    "            print(f\"Numbers divisible by 2 between {start} and {end}: {result}\")\n",
    "        else:\n",
    "            print(f\"No numbers divisible by 2 found between {start} and {end}.\")\n",
    "    else:\n",
    "        print(result)\n",
    "\n",
    "# Test the function with a custom range\n",
    "display_divisible_by_2(1, 20)\n"
   ]
  },
  {
   "cell_type": "markdown",
   "metadata": {},
   "source": [
    "### Practice Problem 1: \n",
    "Here, there are four names in a list. Write code so that when the code runs, the index will be listed and the element (names) will be written under it.\n",
    "- Write a loop to print the index and name at that index\n",
    "\n",
    "`names = [\"Alice\", \"Bob\", \"Charlie\", \"Diana\"]`\n",
    "\n"
   ]
  },
  {
   "cell_type": "code",
   "execution_count": null,
   "metadata": {},
   "outputs": [],
   "source": [
    "# List of names\n",
    "names = [\"Alice\", \"Bob\", \"Charlie\", \"Diana\"]\n",
    "\n",
    "# Function to print index and name at that index\n",
    "def print_names_with_indices(name_list):\n",
    "    # Edge case handling: Check if the input is a list\n",
    "    if not isinstance(name_list, list):\n",
    "        return \"Error: Input must be a list.\"\n",
    "    \n",
    "    # Edge case handling: Check if the list is empty\n",
    "    if not name_list:\n",
    "        return \"Error: The list is empty.\"\n",
    "    \n",
    "    # Loop to print the index and corresponding name\n",
    "    for index, name in enumerate(name_list):\n",
    "        print(f\"Index {index}: {name}\")\n",
    "\n",
    "# Call the function to test the code\n",
    "print_names_with_indices(names)\n"
   ]
  },
  {
   "cell_type": "markdown",
   "metadata": {},
   "source": [
    "### Practice Problem 2: \n",
    "Here, there are four numbers listed. Using your knowledge of nested if statements, write code that will print the positive numbers in one group and the negative numbers as one group.\n",
    "- Helpful Hint: the command that checks if a number is negative is “if num<0”"
   ]
  },
  {
   "cell_type": "code",
   "execution_count": null,
   "metadata": {},
   "outputs": [],
   "source": [
    "# List of numbers\n",
    "numbers = [10, -4, 3, -7]\n",
    "\n",
    "# Function to group and print positive and negative numbers\n",
    "def group_numbers_by_sign(number_list):\n",
    "    # Edge case handling: Check if the input is a list\n",
    "    if not isinstance(number_list, list):\n",
    "        return \"Error: Input must be a list.\"\n",
    "    \n",
    "    # Edge case handling: Check if the list is empty\n",
    "    if not number_list:\n",
    "        return \"Error: The list is empty.\"\n",
    "    \n",
    "    # Initialize two lists to store positive and negative numbers\n",
    "    positive_numbers = []\n",
    "    negative_numbers = []\n",
    "\n",
    "    # Iterate through the list of numbers\n",
    "    for num in number_list:\n",
    "        if num >= 0:\n",
    "            positive_numbers.append(num)\n",
    "        else:\n",
    "            negative_numbers.append(num)\n",
    "    \n",
    "    # Print the results in groups\n",
    "    if positive_numbers:\n",
    "        print(\"Positive Numbers:\", positive_numbers)\n",
    "    else:\n",
    "        print(\"No positive numbers in the list.\")\n",
    "    \n",
    "    if negative_numbers:\n",
    "        print(\"Negative Numbers:\", negative_numbers)\n",
    "    else:\n",
    "        print(\"No negative numbers in the list.\")\n",
    "\n",
    "# Call the function to test the code\n",
    "group_numbers_by_sign(numbers)\n"
   ]
  },
  {
   "cell_type": "markdown",
   "metadata": {},
   "source": [
    "### Homework Hack 2: You are tasked with writing a simple Python script that uses a for loop to iterate through a list of numbers and print each number.\n",
    "\n",
    "- Write a for loop to iterate through the given list of numbers. Print each number as you iterate through the list. Input: Use the list of numbers: [1, 2, 3, 4, 5]\n",
    "- Expected Output: You should print each number from the list.\n"
   ]
  },
  {
   "cell_type": "code",
   "execution_count": null,
   "metadata": {},
   "outputs": [],
   "source": [
    "# List of numbers\n",
    "numbers = [1, 2, 3, 4, 5]\n",
    "\n",
    "# Function to print each number from the list\n",
    "def print_numbers(number_list):\n",
    "    # Edge case handling: Check if the input is a list\n",
    "    if not isinstance(number_list, list):\n",
    "        return \"Error: Input must be a list.\"\n",
    "    \n",
    "    # Edge case handling: Check if the list is empty\n",
    "    if not number_list:\n",
    "        return \"Error: The list is empty.\"\n",
    "    \n",
    "    # For loop to iterate through the list and print each number\n",
    "    for number in number_list:\n",
    "        print(number)\n",
    "\n",
    "# Call the function to test the code\n",
    "print_numbers(numbers)\n"
   ]
  },
  {
   "cell_type": "markdown",
   "metadata": {},
   "source": [
    "### Homework Hack 3: You are tasked with solving two exercises involving loops in Python. The goal is to understand how to iterate through different types of collections (lists and dictionaries) and print their contents.\n",
    "\n",
    "- Exercise 1: Write a for loop to iterate through a list of colors and print each color. Exercise 2: Write a for loop to iterate through a dictionary of fruits where the keys represent the type of fruit, and the values represent the quantity of each fruit. Print the fruit’s name and its corresponding quantity in the format: “fruit_name : quantity”. Input:\n",
    "- For the first exercise, use the list of colors: [“red”, “blue”, “green”, “yellow”]\n",
    "- For the second exercise, use the dictionary of fruits: {“apple”: 3, “banana”: 5, “cherry”: 7}\n",
    "- Expected Output: You should print each color from the list, and each fruit with its quantity from the dictionary.\n"
   ]
  },
  {
   "cell_type": "code",
   "execution_count": null,
   "metadata": {},
   "outputs": [],
   "source": [
    "# Exercise 1: For loop to iterate through a list of colors and print each color\n",
    "def print_colors(color_list):\n",
    "    # Edge case handling: Check if the input is a list\n",
    "    if not isinstance(color_list, list):\n",
    "        return \"Error: Input must be a list.\"\n",
    "    \n",
    "    # Edge case handling: Check if the list is empty\n",
    "    if not color_list:\n",
    "        return \"Error: The list is empty.\"\n",
    "    \n",
    "    # For loop to iterate through the list of colors\n",
    "    for color in color_list:\n",
    "        print(color)\n",
    "\n",
    "\n",
    "# Exercise 2: For loop to iterate through a dictionary of fruits and print the fruit name and its quantity\n",
    "def print_fruits(fruit_dict):\n",
    "    # Edge case handling: Check if the input is a dictionary\n",
    "    if not isinstance(fruit_dict, dict):\n",
    "        return \"Error: Input must be a dictionary.\"\n",
    "    \n",
    "    # Edge case handling: Check if the dictionary is empty\n",
    "    if not fruit_dict:\n",
    "        return \"Error: The dictionary is empty.\"\n",
    "    \n",
    "    # For loop to iterate through the dictionary of fruits\n",
    "    for fruit, quantity in fruit_dict.items():\n",
    "        print(f\"{fruit}: {quantity}\")\n",
    "\n",
    "# Input lists and dictionaries\n",
    "colors = [\"red\", \"blue\", \"green\", \"yellow\"]\n",
    "fruits = {\"apple\": 3, \"banana\": 5, \"cherry\": 7}\n",
    "\n",
    "# Call the functions to test the code\n",
    "print(\"Exercise 1: Colors\")\n",
    "print_colors(colors)\n",
    "\n",
    "print(\"\\nExercise 2: Fruits and Quantities\")\n",
    "print_fruits(fruits)\n"
   ]
  }
 ],
 "metadata": {
  "language_info": {
   "name": "python"
  }
 },
 "nbformat": 4,
 "nbformat_minor": 2
}
