{
 "cells": [
  {
   "cell_type": "raw",
   "metadata": {
    "vscode": {
     "languageId": "raw"
    }
   },
   "source": [
    "---\n",
    "layout: post\n",
    "title: 3.1 and 3.4 Hacks\n",
    "description: This contains the hacks and homework for Sprint 2\n",
    "permalink: /hacks-3.1-3.4/\n",
    "---"
   ]
  },
  {
   "cell_type": "markdown",
   "metadata": {},
   "source": [
    "## 3.1 Hacks"
   ]
  },
  {
   "cell_type": "markdown",
   "metadata": {},
   "source": [
    "### Hack 1: Write a Python program that assigns a variable and changes its value type multiple times. Use the type() function to track and print the type of the variable after each reassignment."
   ]
  },
  {
   "cell_type": "code",
   "execution_count": null,
   "metadata": {},
   "outputs": [],
   "source": [
    "# Function to display the value and its type\n",
    "def display_type(var):\n",
    "    print(f\"Value: {var}, Type: {type(var)}\")\n",
    "\n",
    "# Step 1: Assigning an integer value\n",
    "var = 10\n",
    "display_type(var)  # Expected type: int\n",
    "\n",
    "# Step 2: Reassigning to a float value\n",
    "var = 10.5\n",
    "display_type(var)  # Expected type: float\n",
    "\n",
    "# Step 3: Reassigning to a string\n",
    "var = \"Python\"\n",
    "display_type(var)  # Expected type: str\n",
    "\n",
    "# Step 4: Reassigning to a boolean value\n",
    "var = True\n",
    "display_type(var)  # Expected type: bool\n",
    "\n",
    "# Step 5: Reassigning to a list\n",
    "var = [1, 2, 3]\n",
    "display_type(var)  # Expected type: list\n",
    "\n",
    "# Step 6: Reassigning to a dictionary\n",
    "var = {\"key\": \"value\"}\n",
    "display_type(var)  # Expected type: dict\n",
    "\n",
    "# Step 7: Reassigning to a tuple\n",
    "var = (1, 2, 3)\n",
    "display_type(var)  # Expected type: tuple\n",
    "\n",
    "# Step 8: Reassigning to a set (new data type)\n",
    "var = {1, 2, 3}\n",
    "display_type(var)  # Expected type: set\n",
    "\n",
    "# Step 9: Reassigning to NoneType\n",
    "var = None\n",
    "display_type(var)  # Expected type: NoneType\n",
    "\n",
    "# Extra Feature: Assigning complex data structures and nested types\n",
    "# Step 10: Reassigning to a nested data structure (list of dictionaries)\n",
    "var = [{\"id\": 1, \"name\": \"Alice\"}, {\"id\": 2, \"name\": \"Bob\"}]\n",
    "display_type(var)  # Expected type: list\n",
    "\n",
    "# Step 11: Reassigning to a lambda function\n",
    "var = lambda x: x * 2\n",
    "print(f\"Lambda result for input 5: {var(5)}, Type: {type(var)}\")  # Expected type: function\n"
   ]
  },
  {
   "cell_type": "markdown",
   "metadata": {},
   "source": [
    "### Hack 2: Swap the values of two variables without using a third (temporary) variable.\n"
   ]
  },
  {
   "cell_type": "code",
   "execution_count": null,
   "metadata": {},
   "outputs": [],
   "source": [
    "# Initial values\n",
    "a = 5\n",
    "b = 10\n",
    "\n",
    "# Method 1: Swapping using tuple packing/unpacking (Pythonic way)\n",
    "print(f\"Before swap (method 1): a = {a}, b = {b}\")\n",
    "a, b = b, a  # Python tuple packing/unpacking\n",
    "print(f\"After swap (method 1): a = {a}, b = {b}\")\n",
    "\n",
    "# Reassign values for the next method\n",
    "a = 5\n",
    "b = 10\n",
    "\n",
    "# Method 2: Swapping using arithmetic operations\n",
    "print(f\"Before swap (method 2): a = {a}, b = {b}\")\n",
    "a = a + b  # Step 1: a becomes the sum of a and b\n",
    "b = a - b  # Step 2: b becomes the original value of a\n",
    "a = a - b  # Step 3: a becomes the original value of b\n",
    "print(f\"After swap (method 2): a = {a}, b = {b}\")\n"
   ]
  },
  {
   "cell_type": "markdown",
   "metadata": {},
   "source": [
    "### Hack 3: Create a Python program that assigns the same value to two different variables, and then check if they point to the same memory address. Use the id() function for comparison."
   ]
  },
  {
   "cell_type": "code",
   "execution_count": null,
   "metadata": {},
   "outputs": [],
   "source": [
    "# Step 1: Assign the same value to two variables\n",
    "x = 1000\n",
    "y = 1000\n",
    "\n",
    "# Step 2: Check if they point to the same memory address\n",
    "print(f\"Value of x: {x}, id of x: {id(x)}\")\n",
    "print(f\"Value of y: {y}, id of y: {id(y)}\")\n",
    "\n",
    "# Step 3: Compare memory addresses\n",
    "if id(x) == id(y):\n",
    "    print(\"x and y point to the same memory address.\")\n",
    "else:\n",
    "    print(\"x and y point to different memory addresses.\")\n",
    "\n",
    "# Step 4: Force assignment of identical objects and test again (small integers are cached in Python)\n",
    "a = 5\n",
    "b = 5\n",
    "\n",
    "print(f\"\\nValue of a: {a}, id of a: {id(a)}\")\n",
    "print(f\"Value of b: {b}, id of b: {id(b)}\")\n",
    "\n",
    "if id(a) == id(b):\n",
    "    print(\"a and b point to the same memory address (due to Python's small integer caching).\")\n",
    "else:\n",
    "    print(\"a and b point to different memory addresses.\")\n",
    "\n",
    "# Extra Feature: Test with mutable objects (lists)\n",
    "m = [1, 2, 3]\n",
    "n = m\n",
    "\n",
    "print(f\"\\nValue of m: {m}, id of m: {id(m)}\")\n",
    "print(f\"Value of n: {n}, id of n: {id(n)}\")\n",
    "\n",
    "if id(m) == id(n):\n",
    "    print(\"m and n point to the same memory address (because lists are mutable).\")\n",
    "else:\n",
    "    print(\"m and n point to different memory addresses.\")\n"
   ]
  },
  {
   "cell_type": "markdown",
   "metadata": {},
   "source": [
    "### Hack 4: You need to create a user profile using appropriate variable names that reflect the data they hold. The profile includes the user’s full name, age, email, and account balance."
   ]
  },
  {
   "cell_type": "code",
   "execution_count": null,
   "metadata": {},
   "outputs": [],
   "source": [
    "# Step 1: Define user profile variables\n",
    "\n",
    "full_name = \"Gabrielac\"\n",
    "age = 28\n",
    "email_address = \"gabrielac@example.com\"\n",
    "account_balance = 1500.75\n",
    "\n",
    "# Step 2: Display user profile details\n",
    "print(\"User Profile Information:\")\n",
    "print(f\"Full Name: {full_name}\")\n",
    "print(f\"Age: {age}\")\n",
    "print(f\"Email: {email_address}\")\n",
    "print(f\"Account Balance: ${account_balance:.2f}\")\n",
    "\n",
    "# Extra Feature: Function to display formatted user details\n",
    "def display_user_profile(name, age, email, balance):\n",
    "    print(\"\\nFormatted User Profile:\")\n",
    "    print(f\"Name: {name}\")\n",
    "    print(f\"Age: {age} years\")\n",
    "    print(f\"Email: {email}\")\n",
    "    print(f\"Account Balance: ${balance:.2f}\")\n",
    "\n",
    "# Call the function\n",
    "display_user_profile(full_name, age, email_address, account_balance)\n"
   ]
  },
  {
   "cell_type": "markdown",
   "metadata": {},
   "source": [
    "### Hack 5: You’re managing a store’s product inventory. Create variables that store information about two products, including their names, stock quantities, and prices. Use good naming conventions for each variable.\n",
    "\n",
    "Requirements:\n",
    "\n",
    "- Create variables for productName1, productPrice1, productStock1, and similarly for a second product.\n",
    "- Assign meaningful values to each.\n",
    "- Output a message that describes each product’s stock and price, such as: \"The store has 10 units of Laptops priced at $1200 each.\""
   ]
  },
  {
   "cell_type": "code",
   "execution_count": null,
   "metadata": {},
   "outputs": [],
   "source": [
    "# Step 1: Define variables for the first product\n",
    "product_name_1 = \"Laptop\"\n",
    "product_price_1 = 1200.00\n",
    "product_stock_1 = 10\n",
    "\n",
    "# Step 2: Define variables for the second product\n",
    "product_name_2 = \"Smartphone\"\n",
    "product_price_2 = 799.99\n",
    "product_stock_2 = 25\n",
    "\n",
    "# Step 3: Output a message describing each product's stock and price\n",
    "print(f\"The store has {product_stock_1} units of {product_name_1}s priced at ${product_price_1} each.\")\n",
    "print(f\"The store has {product_stock_2} units of {product_name_2}s priced at ${product_price_2} each.\")\n",
    "\n",
    "# Extra Feature: Function to display product details in a formatted way\n",
    "def display_product_details(name, stock, price):\n",
    "    print(f\"\\nProduct Name: {name}\")\n",
    "    print(f\"Stock Available: {stock} units\")\n",
    "    print(f\"Price: ${price:.2f} each\")\n",
    "\n",
    "# Step 4: Call the function to display details of both products\n",
    "display_product_details(product_name_1, product_stock_1, product_price_1)\n",
    "display_product_details(product_name_2, product_stock_2, product_price_2)\n"
   ]
  },
  {
   "cell_type": "markdown",
   "metadata": {},
   "source": [
    "### Hack 6: Write a program that calculates the total price of an order after tax. Use descriptive variable names to represent item price, quantity, tax rate, and total price after tax.\n",
    "\n",
    "Requirements:\n",
    "\n",
    "- Use meaningful variable names (make sure they use camelCase)\n",
    "- Calculate the total price after tax and store it in `totalPriceAfterTax`.\n",
    "- Print out a message like: \"The total price for 3 items each priced at $20 with a tax rate of 10% is $66.\""
   ]
  },
  {
   "cell_type": "code",
   "execution_count": null,
   "metadata": {},
   "outputs": [],
   "source": [
    "# Step 1: Define variables for item price, quantity, and tax rate\n",
    "itemPrice = 20.00  # Price of each item\n",
    "quantity = 3       # Number of items purchased\n",
    "taxRate = 0.10     # Tax rate as a decimal (10%)\n",
    "\n",
    "# Step 2: Calculate the total price before tax\n",
    "totalPriceBeforeTax = itemPrice * quantity\n",
    "\n",
    "# Step 3: Calculate the total price after tax\n",
    "totalPriceAfterTax = totalPriceBeforeTax * (1 + taxRate)\n",
    "\n",
    "# Step 4: Output a message with the total price after tax\n",
    "print(f\"The total price for {quantity} items each priced at ${itemPrice:.2f} with a tax rate of {taxRate*100}% is ${totalPriceAfterTax:.2f}.\")"
   ]
  },
  {
   "cell_type": "markdown",
   "metadata": {},
   "source": [
    "## 3.4 Hacks"
   ]
  },
  {
   "cell_type": "markdown",
   "metadata": {},
   "source": [
    "### Hack 1: Write a Python function that takes a string as input and returns the string reversed."
   ]
  },
  {
   "cell_type": "code",
   "execution_count": null,
   "metadata": {},
   "outputs": [],
   "source": [
    "# Function to reverse a string\n",
    "def reverse_string(input_string):\n",
    "    \"\"\"\n",
    "    This function takes a string as input and returns the reversed version of that string.\n",
    "    \"\"\"\n",
    "    return input_string[::-1]\n",
    "\n",
    "# Test the function\n",
    "reversed_string = reverse_string(\"Hello World\")\n",
    "print(f\"Reversed String: {reversed_string}\")"
   ]
  },
  {
   "cell_type": "markdown",
   "metadata": {},
   "source": [
    "### Hack 2: Create a Python program that counts the number of vowels (‘a’, ‘e’, ‘i’, ‘o’, ‘u’) in a given string."
   ]
  },
  {
   "cell_type": "code",
   "execution_count": null,
   "metadata": {},
   "outputs": [],
   "source": [
    "# Function to count vowels in a string\n",
    "def count_vowels(input_string):\n",
    "    \"\"\"\n",
    "    This function counts the number of vowels ('a', 'e', 'i', 'o', 'u') in a given string.\n",
    "    \"\"\"\n",
    "    vowels = 'aeiouAEIOU'\n",
    "    return sum(1 for char in input_string if char in vowels)\n",
    "\n",
    "# Test the function\n",
    "vowel_count = count_vowels(\"Hello World\")\n",
    "print(f\"Number of Vowels: {vowel_count}\")"
   ]
  },
  {
   "cell_type": "markdown",
   "metadata": {},
   "source": [
    "### Hack 3: Given a string, write a function to replace all occurrences of the substring ‘abc’ with ‘xyz’.\n"
   ]
  },
  {
   "cell_type": "code",
   "execution_count": null,
   "metadata": {},
   "outputs": [],
   "source": [
    "# Function to replace 'abc' with 'xyz'\n",
    "def replace_abc_with_xyz(input_string):\n",
    "    \"\"\"\n",
    "    This function replaces all occurrences of the substring 'abc' with 'xyz' in a given string.\n",
    "    \"\"\"\n",
    "    return input_string.replace('abc', 'xyz')\n",
    "\n",
    "# Test the function\n",
    "replaced_string = replace_abc_with_xyz(\"abc is replaced by xyz in abcdef\")\n",
    "print(f\"Modified String: {replaced_string}\")"
   ]
  },
  {
   "cell_type": "markdown",
   "metadata": {},
   "source": [
    "### Hack 4: Write a function that checks if a given string is a palindrome (reads the same forward and backward), ignoring spaces, punctuation, and case."
   ]
  },
  {
   "cell_type": "code",
   "execution_count": null,
   "metadata": {},
   "outputs": [],
   "source": [
    "import string\n",
    "\n",
    "# Function to check if a string is a palindrome\n",
    "def is_palindrome(input_string):\n",
    "    \"\"\"\n",
    "    This function checks if a given string is a palindrome (ignores spaces, punctuation, and case).\n",
    "    \"\"\"\n",
    "    # Remove spaces, punctuation, and convert to lowercase\n",
    "    cleaned_string = ''.join(char.lower() for char in input_string if char.isalnum())\n",
    "    # Check if the cleaned string reads the same forwards and backwards\n",
    "    return cleaned_string == cleaned_string[::-1]\n",
    "\n",
    "# Test the function\n",
    "palindrome_check = is_palindrome(\"A man, a plan, a canal, Panama\")\n",
    "print(f\"Is palindrome: {palindrome_check}\")"
   ]
  },
  {
   "cell_type": "markdown",
   "metadata": {},
   "source": [
    "### Hack 5: Write a program that finds and returns the longest word in a given sentence."
   ]
  },
  {
   "cell_type": "code",
   "execution_count": null,
   "metadata": {},
   "outputs": [],
   "source": [
    "# Function to find the longest word in a sentence\n",
    "def find_longest_word(sentence):\n",
    "    \"\"\"\n",
    "    This function finds and returns the longest word in a given sentence.\n",
    "    \"\"\"\n",
    "    words = sentence.split()\n",
    "    longest_word = max(words, key=len) if words else \"\"\n",
    "    return longest_word\n",
    "\n",
    "# Test the function\n",
    "longest_word = find_longest_word(\"The quick brown fox jumps over the lazy dog\")\n",
    "print(f\"Longest Word: {longest_word}\")"
   ]
  },
  {
   "cell_type": "markdown",
   "metadata": {},
   "source": [
    "### Hack 6: Given a string containing both letters and digits, write a function that extracts all the numbers, sums them up, and returns the total."
   ]
  },
  {
   "cell_type": "code",
   "execution_count": null,
   "metadata": {},
   "outputs": [],
   "source": [
    "import re\n",
    "\n",
    "# Function to extract and sum numbers from a string\n",
    "def sum_numbers_in_string(input_string):\n",
    "    \"\"\"\n",
    "    This function extracts all the numbers in a given string, sums them up, and returns the total.\n",
    "    \"\"\"\n",
    "    numbers = re.findall(r'\\d+', input_string)  # Find all sequences of digits\n",
    "    return sum(int(num) for num in numbers)\n",
    "\n",
    "# Test the function\n",
    "total_sum = sum_numbers_in_string(\"The price is 100 dollars and 20 cents with a 5 dollar discount.\")\n",
    "print(f\"Sum of Numbers: {total_sum}\")"
   ]
  },
  {
   "cell_type": "markdown",
   "metadata": {},
   "source": [
    "### Hack 7: A student was instructed to provide a list of ALL the countries in Africa. Your task is to now convert the list, which is provided as a string and convert it to an array.\n"
   ]
  },
  {
   "cell_type": "code",
   "execution_count": null,
   "metadata": {},
   "outputs": [],
   "source": [
    "# Step 1: Define the string of African countries\n",
    "countries_string = \"Algeria, Angola, Benin, Botswana, Burkina Faso, Burundi, Cabo Verde, Cameroon, Central African Republic, Chad, Comoros, Congo (Congo-Brazzaville), Cote d’Ivoire, Djibouti, DR Congo (Congo-Kinshasa), Egypt, Equatorial Guinea, Eritrea, Eswatini, Ethiopia, Gabon, Gambia, Ghana, Guinea, Guinea-Bissau, Kenya, Lesotho, Liberia, Libya, Madagascar, Malawi, Mali, Mauritania, Mauritius, Morocco, Mozambique, Namibia, Niger, Nigeria, Rwanda, Sao Tome and Principe, Senegal, Seychelles, Sierra Leone, Somalia, South Africa, South Sudan, Sudan, Tanzania, Togo, Tunisia, Uganda, Zambia, Zimbabwe\"\n",
    "\n",
    "# Step 2: Convert the string to a list (array) using the split() method\n",
    "countries_list = countries_string.split(\", \")\n",
    "\n",
    "# Step 3: Output the resulting list of countries\n",
    "print(f\"List of African countries: {countries_list}\")\n",
    "print(f\"\\nNumber of countries in Africa: {len(countries_list)}\")\n"
   ]
  },
  {
   "cell_type": "markdown",
   "metadata": {},
   "source": [
    "### Hack 8: Applications that are more personalized are always great to have! Please create a program that prompts the user for their name, age, favorite food, & favorite book. Store all these prompts as variables and then use concatenation or interpolation to make a cohesive message out of these prompts.\n",
    "\n",
    "To get you started, here’s how you can prompt someone in JavaScript: `prompt(\"Please enter your name\")`"
   ]
  },
  {
   "cell_type": "code",
   "execution_count": null,
   "metadata": {},
   "outputs": [],
   "source": [
    "# Step 1: Prompt the user for their details\n",
    "name = input(\"Please enter your name: \")\n",
    "age = input(\"Please enter your age: \")\n",
    "favorite_food = input(\"Please enter your favorite food: \")\n",
    "favorite_book = input(\"Please enter your favorite book: \")\n",
    "\n",
    "# Step 2: Create a cohesive message using string interpolation\n",
    "message = f\"Hello, my name is {name}. I am {age} years old. My favorite food is {favorite_food}, and my favorite book is '{favorite_book}'.\"\n",
    "\n",
    "# Step 3: Print the message\n",
    "print(message)\n"
   ]
  },
  {
   "cell_type": "markdown",
   "metadata": {},
   "source": [
    "### Hack 9: \n",
    "Part 1: We received this message from a noisy audio file: `The...secret...to...life...is...(redacted)`\n",
    "\n",
    "There seems to be white noise in between words. Please remove the ... between the words using a string method.\n",
    "\n",
    "Expected output: `The secret to life is (redacted)`"
   ]
  },
  {
   "cell_type": "code",
   "execution_count": null,
   "metadata": {},
   "outputs": [],
   "source": [
    "# Step 1: Define the noisy message\n",
    "noisy_message = \"The...secret...to...life...is...(redacted)\"\n",
    "\n",
    "# Step 2: Remove the noise using the replace() method\n",
    "cleaned_message = noisy_message.replace(\"...\", \" \")\n",
    "\n",
    "# Step 3: Print the cleaned message\n",
    "print(cleaned_message)"
   ]
  },
  {
   "cell_type": "markdown",
   "metadata": {},
   "source": [
    "Part 2: Once you figure out how to remove this white noise, we should create a program to remove it from any file! Please create a program that takes user input and can remove the … that may or may not be in the input.\n",
    "\n",
    "Example input & output:\n",
    "\n",
    "Input: `Hello...World`\n",
    "Output: `Hello World`"
   ]
  },
  {
   "cell_type": "code",
   "execution_count": null,
   "metadata": {},
   "outputs": [],
   "source": [
    "# Step 1: Prompt the user for input\n",
    "user_input = input(\"Please enter a message (you can include '...' as noise): \")\n",
    "\n",
    "# Step 2: Remove the noise using the replace() method\n",
    "cleaned_input = user_input.replace(\"...\", \" \")\n",
    "\n",
    "# Step 3: Print the cleaned message\n",
    "print(f\"Cleaned message: {cleaned_input}\")\n"
   ]
  }
 ],
 "metadata": {
  "language_info": {
   "name": "python"
  }
 },
 "nbformat": 4,
 "nbformat_minor": 2
}
