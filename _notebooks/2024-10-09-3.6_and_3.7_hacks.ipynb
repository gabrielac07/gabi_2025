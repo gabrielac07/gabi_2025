{
 "cells": [
  {
   "cell_type": "raw",
   "metadata": {
    "vscode": {
     "languageId": "raw"
    }
   },
   "source": [
    "---\n",
    "layout: post\n",
    "title: 3.6 and 3.7 Hacks\n",
    "description: This contains the hacks and homework for Sprint 2\n",
    "permalink: /hacks-3.6-3.7/\n",
    "---"
   ]
  },
  {
   "cell_type": "markdown",
   "metadata": {},
   "source": [
    "## 3.6 Hacks\n",
    "\n",
    "### Hack 1: Simple Javascript Conditionals"
   ]
  },
  {
   "cell_type": "code",
   "execution_count": null,
   "metadata": {
    "vscode": {
     "languageId": "javascript"
    }
   },
   "outputs": [],
   "source": [
    "let temperature = prompt(\"Enter the temperature in Fahrenheit:\");\n",
    "\n",
    "temperature = parseFloat(temperature); // Convert the input to a number\n",
    "\n",
    "if (temperature < 32) {\n",
    "    console.log(\"It's freezing! You should wear a heavy jacket.\");\n",
    "} else if (temperature >= 32 && temperature <= 60) {\n",
    "    console.log(\"It's a bit chilly. You should wear a jacket.\");\n",
    "} else {\n",
    "    console.log(\"The weather is nice! No need for a jacket.\");\n",
    "}\n"
   ]
  },
  {
   "cell_type": "markdown",
   "metadata": {},
   "source": [
    "### Hack 2: Python conditionals"
   ]
  },
  {
   "cell_type": "code",
   "execution_count": null,
   "metadata": {},
   "outputs": [],
   "source": [
    "temperature = float(input(\"Enter the temperature in Fahrenheit: \"))\n",
    "\n",
    "if temperature < 32:\n",
    "    print(\"It's freezing! You should wear a heavy jacket.\")\n",
    "elif 32 <= temperature <= 60:\n",
    "    print(\"It's a bit chilly. You should wear a jacket.\")\n",
    "else:\n",
    "    print(\"The weather is nice! No need for a jacket.\")\n"
   ]
  },
  {
   "cell_type": "markdown",
   "metadata": {},
   "source": [
    "## 3.7 Hacks\n",
    "\n",
    "### Hack 1: Python Nested Conditionals"
   ]
  },
  {
   "cell_type": "code",
   "execution_count": null,
   "metadata": {},
   "outputs": [],
   "source": [
    "# Nested conditional example\n",
    "\n",
    "temperature = float(input(\"Enter the temperature in Fahrenheit: \"))\n",
    "is_raining = input(\"Is it raining? (yes/no): \").lower()\n",
    "\n",
    "if temperature < 32:\n",
    "    if is_raining == \"yes\":\n",
    "        print(\"It's freezing and raining! Stay inside and keep warm.\")\n",
    "    else:\n",
    "        print(\"It's freezing but not raining. You should wear a heavy jacket.\")\n",
    "else:\n",
    "    if temperature <= 60:\n",
    "        if is_raining == \"yes\":\n",
    "            print(\"It's chilly and raining. Wear a jacket and take an umbrella.\")\n",
    "        else:\n",
    "            print(\"It's chilly but dry. A jacket should be enough.\")\n",
    "    else:\n",
    "        if is_raining == \"yes\":\n",
    "            print(\"It's warm but raining. Take an umbrella.\")\n",
    "        else:\n",
    "            print(\"It's warm and dry! Enjoy the weather without a jacket.\")\n"
   ]
  },
  {
   "cell_type": "markdown",
   "metadata": {},
   "source": [
    "### Hack 2: Javascript Nested Conditionals"
   ]
  },
  {
   "cell_type": "code",
   "execution_count": null,
   "metadata": {
    "vscode": {
     "languageId": "javascript"
    }
   },
   "outputs": [],
   "source": [
    "// Nested conditional example in JavaScript\n",
    "\n",
    "let grade = parseInt(prompt(\"Enter the student's grade:\"));\n",
    "\n",
    "if (grade >= 90) {\n",
    "    console.log(\"The grade is an A.\");\n",
    "} else {\n",
    "    if (grade >= 80) {\n",
    "        console.log(\"The grade is a B.\");\n",
    "    } else {\n",
    "        if (grade >= 70) {\n",
    "            console.log(\"The grade is a C.\");\n",
    "        } else {\n",
    "            if (grade >= 60) {\n",
    "                console.log(\"The grade is a D.\");\n",
    "            } else {\n",
    "                console.log(\"The grade is an F.\");\n",
    "            }\n",
    "        }\n",
    "    }\n",
    "}\n"
   ]
  },
  {
   "cell_type": "markdown",
   "metadata": {},
   "source": [
    "### Homework 1: Create a simple system using if and else statements that determines whether or not a user (based on their age) is eligible to vote\n",
    "- If the person is less than 18 years old, they should not be able to vote\n",
    "- If the person is 18 years old or older, they are able to vote"
   ]
  },
  {
   "cell_type": "code",
   "execution_count": null,
   "metadata": {},
   "outputs": [],
   "source": [
    "# Simple voting eligibility system\n",
    "\n",
    "age = int(input(\"Enter your age: \"))\n",
    "\n",
    "if age >= 18:\n",
    "    print(\"You are eligible to vote.\")\n",
    "else:\n",
    "    print(\"You are not eligible to vote.\")\n"
   ]
  },
  {
   "cell_type": "markdown",
   "metadata": {},
   "source": [
    "### Homework 2: Create a simple system using if and else statements that determines what the user would eat\n",
    "- If the person is healthy, make them eat an apple\n",
    "- If the person doesn’t care about what they eat, make them drink coffee\n",
    "- If the person is unhealthy, make them eat chocolate"
   ]
  },
  {
   "cell_type": "code",
   "execution_count": null,
   "metadata": {},
   "outputs": [],
   "source": [
    "# Simple eating decision system\n",
    "\n",
    "health_status = input(\"How do you feel about your health? (healthy/don't care/unhealthy): \").lower()\n",
    "\n",
    "if health_status == \"healthy\":\n",
    "    print(\"You should eat an apple.\")\n",
    "elif health_status == \"don't care\":\n",
    "    print(\"You should drink coffee.\")\n",
    "elif health_status == \"unhealthy\":\n",
    "    print(\"You should eat chocolate.\")\n",
    "else:\n",
    "    print(\"Invalid input! Please enter 'healthy', 'don't care', or 'unhealthy'.\")\n"
   ]
  }
 ],
 "metadata": {
  "language_info": {
   "name": "python"
  }
 },
 "nbformat": 4,
 "nbformat_minor": 2
}
