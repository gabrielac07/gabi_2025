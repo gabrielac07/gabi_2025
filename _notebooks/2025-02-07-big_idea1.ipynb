{
 "cells": [
  {
   "cell_type": "raw",
   "metadata": {
    "vscode": {
     "languageId": "raw"
    }
   },
   "source": [
    "---\n",
    "layout: post\n",
    "title: Big Idea 1 Blog\n",
    "permalink: /big_idea1/\n",
    "---"
   ]
  },
  {
   "cell_type": "markdown",
   "metadata": {},
   "source": [
    "# Big Idea 1: Creativity\n",
    "\n",
    "Big Idea 1 focuses on the role of creativity in computing, emphasizing how computer science fosters creativity in designing solutions to problems, developing new tools, and creating digital products. Students explore how computing allows for innovation and invention in a variety of domains.\n",
    "\n",
    "## Key Concepts:\n",
    " 1. Problem-Solving: Computing provides powerful tools to solve complex problems and address real-world challenges.\n",
    " 2. Design and Development: The process of designing, building, and iterating on software solutions involves creativity, experimentation, and testing.\n",
    " 3. Innovation: New ideas in computing can lead to inventions that change industries and improve lives (e.g., new applications, algorithms, hardware).\n",
    " 4. Computational Thinking: This involves breaking down problems into smaller parts, recognizing patterns, and designing algorithms to find solutions.\n",
    "\n",
    "## Examples of Creativity in Computing:\n",
    "- Designing mobile apps that address user needs or entertain\n",
    "- Developing algorithms for data analysis, machine learning, or artificial intelligence\n",
    "- Creating websites, games, and interactive media that engage users\n",
    "- Inventing new technologies that have a lasting impact (e.g., cloud computing, social media)\n",
    "\n",
    "\n",
    "## Creativity in Digital Media\n",
    "\n",
    "Computing enables artists, musicians, and designers to express their creativity in new ways.\n",
    "For example:\n",
    "- **Graphic design** tools (e.g., Photoshop, Illustrator) allow artists to create digital paintings.\n",
    "- **Music production** software (e.g., GarageBand, FL Studio) lets musicians compose and edit songs.\n",
    "- **Game development** frameworks (e.g., Unity, Unreal Engine) help developers build interactive experiences.\n",
    "\n",
    "## Computing for Problem-Solving\n",
    "\n",
    "Beyond artistic creativity, computer science enables innovation in many fields:\n",
    "- **Medicine**: AI for diagnosing diseases, robotic surgery.\n",
    "- **Education**: Interactive learning apps, AI tutors.\n",
    "- **Entertainment**: CGI in movies, video game physics engines.\n",
    "- **Environment**: Climate models, renewable energy optimizations.\n",
    "\n",
    "Programs are developed to automate tasks, analyze data, and enhance human capabilities.\n",
    "\n",
    "## Computational Thinking\n",
    "\n",
    "Computational thinking is a fundamental skill in computer science. It includes:\n",
    "- **Decomposition**: Breaking down complex problems into manageable parts.\n",
    "- **Pattern Recognition**: Identifying similarities and trends in data.\n",
    "- **Abstraction**: Simplifying problems by focusing on important details.\n",
    "- **Algorithm Design**: Creating step-by-step instructions to solve problems.\n",
    "\n",
    "For example, when designing a video game, developers break down the project into:\n",
    "1. Character design\n",
    "2. Movement mechanics\n",
    "3. AI for enemies\n",
    "4. Scoring system\n",
    "5. Graphics and sound\n",
    "\n",
    "Each of these parts can then be solved individually before combining them into a complete game.\n",
    "\n",
    "## Summary:\n",
    "1. Computing is a powerful tool for creativity, allowing individuals to design, build, and innovate.\n",
    "2. Programming can be used to create digital media, solve problems, and develop new applications.\n",
    "3. Computational thinking helps in breaking down complex problems into smaller, manageable steps.\n",
    "4. The impact of computing innovations extends across various industries, from healthcare to entertainment.\n"
   ]
  }
 ],
 "metadata": {
  "language_info": {
   "name": "python"
  }
 },
 "nbformat": 4,
 "nbformat_minor": 2
}
