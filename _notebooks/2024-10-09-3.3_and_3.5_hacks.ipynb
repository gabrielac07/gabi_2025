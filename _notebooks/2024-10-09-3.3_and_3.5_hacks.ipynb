{
 "cells": [
  {
   "cell_type": "raw",
   "metadata": {
    "vscode": {
     "languageId": "raw"
    }
   },
   "source": [
    "---\n",
    "layout: post\n",
    "title: 3.3 and 3.5 Hacks\n",
    "description: This contains the hacks and homework for Sprint 2\n",
    "permalink: /hacks-3.3-3.5/\n",
    "---"
   ]
  },
  {
   "cell_type": "markdown",
   "metadata": {},
   "source": [
    "## 3.3 Hacks\n",
    "\n",
    "### Hack 1: Create a function that\n",
    "- Adds 2 parameters\n",
    "- Subtracts 2 parameters\n",
    "- Divides 2 parameters\n",
    "- Find the Modulus of 2 parameters\n",
    "- Raise parameter A to the power of parameter B"
   ]
  },
  {
   "cell_type": "code",
   "execution_count": null,
   "metadata": {},
   "outputs": [],
   "source": [
    "# Function to add two numbers\n",
    "def add(a, b):\n",
    "    return a + b\n",
    "\n",
    "# Function to subtract two numbers\n",
    "def subtract(a, b):\n",
    "    return a - b\n",
    "\n",
    "# Function to divide two numbers\n",
    "def divide(a, b):\n",
    "    if b == 0:\n",
    "        return \"Error! Division by zero is not allowed.\"\n",
    "    return a / b\n",
    "\n",
    "# Function to find modulus of two numbers\n",
    "def modulus(a, b):\n",
    "    if b == 0:\n",
    "        return \"Error! Modulus by zero is not allowed.\"\n",
    "    return a % b\n",
    "\n",
    "# Function to raise a to the power of b\n",
    "def power(a, b):\n",
    "    return a ** b\n",
    "\n",
    "# Main block to use the functions\n",
    "def main():\n",
    "    a = float(input(\"Enter the first number (A): \"))\n",
    "    b = float(input(\"Enter the second number (B): \"))\n",
    "    \n",
    "    print(f\"Addition of A and B: {add(a, b)}\")\n",
    "    print(f\"Subtraction of A and B: {subtract(a, b)}\")\n",
    "    print(f\"Division of A by B: {divide(a, b)}\")\n",
    "    print(f\"Modulus of A and B: {modulus(a, b)}\")\n",
    "    print(f\"A raised to the power of B: {power(a, b)}\")\n",
    "\n",
    "# Run the main block\n",
    "if __name__ == \"__main__\":\n",
    "    main()\n"
   ]
  },
  {
   "cell_type": "markdown",
   "metadata": {},
   "source": [
    "### Hack 2: Create a function that finds a point on a graph of `f(x) = 5x + 2`\n",
    "- Think `f(x) = mx + b` or `y = mx + b`.\n",
    "- Your parameter should be the x value, and your output (return value) should be the y value.\n",
    "\n"
   ]
  },
  {
   "cell_type": "code",
   "execution_count": null,
   "metadata": {},
   "outputs": [],
   "source": [
    "# Function to find the y-value (f(x)) for the given x in the equation f(x) = 5x + 2\n",
    "def find_point_on_graph(x):\n",
    "    m = 5  # slope (m)\n",
    "    b = 2  # y-intercept (b)\n",
    "    \n",
    "    # Calculate y using the equation y = mx + b\n",
    "    y = m * x + b\n",
    "    return y\n",
    "\n",
    "# Main block to interact with the user\n",
    "def main():\n",
    "    x = float(input(\"Enter the x value to find the corresponding point on the graph (y = 5x + 2): \"))\n",
    "    y = find_point_on_graph(x)\n",
    "    \n",
    "    print(f\"The point on the graph at x = {x} is (x, y) = ({x}, {y})\")\n",
    "\n",
    "# Run the main block\n",
    "if __name__ == \"__main__\":\n",
    "    main()\n"
   ]
  },
  {
   "cell_type": "markdown",
   "metadata": {},
   "source": [
    "## 3.5 Hacks\n",
    "\n",
    "### Hack 1: Create a function that determines if you should go outside.\n",
    "- The function will take in 2 parameters, the temperature and isRaining.\n",
    "- If the temperature is below 100 degrees and isRaining is true, then the function should return true.\n",
    "- If the temperature is above 32 degrees and isRaining is false, then the function should return true.\n",
    "- Otherwise, the function should return false."
   ]
  },
  {
   "cell_type": "code",
   "execution_count": null,
   "metadata": {},
   "outputs": [],
   "source": [
    "# Function to determine if you should go outside based on temperature and rain\n",
    "def should_go_outside(temperature, isRaining):\n",
    "    if temperature < 100 and isRaining:\n",
    "        return True\n",
    "    elif temperature > 32 and not isRaining:\n",
    "        return True\n",
    "    else:\n",
    "        return False\n",
    "\n",
    "# Main block to interact with the user\n",
    "def main():\n",
    "    # Taking user input for temperature and rain condition\n",
    "    temperature = float(input(\"Enter the temperature: \"))\n",
    "    isRaining_input = input(\"Is it raining? (yes/no): \").lower()\n",
    "    \n",
    "    # Converting the user's response to a boolean for isRaining\n",
    "    if isRaining_input == \"yes\":\n",
    "        isRaining = True\n",
    "    else:\n",
    "        isRaining = False\n",
    "    \n",
    "    # Call the function and determine if it's a good idea to go outside\n",
    "    if should_go_outside(temperature, isRaining):\n",
    "        print(\"You should go outside!\")\n",
    "    else:\n",
    "        print(\"Better stay inside!\")\n",
    "\n",
    "# Run the main block\n",
    "if __name__ == \"__main__\":\n",
    "    main()\n"
   ]
  },
  {
   "cell_type": "markdown",
   "metadata": {},
   "source": [
    "### Hack 2: Use De Morgan’s Law to create an expression that simplifies the following expressions: \n",
    "- ``javascript // Expression 1 let stayInside = !(isRaining && isCold)\n",
    "- // Expression 2 let stayInside = !(isRaining || isCold) ```"
   ]
  },
  {
   "cell_type": "code",
   "execution_count": null,
   "metadata": {
    "vscode": {
     "languageId": "javascript"
    }
   },
   "outputs": [],
   "source": [
    "let stayInside = !isRaining || !isCold\n",
    "let stayInside = !isRaining && !isCold"
   ]
  }
 ],
 "metadata": {
  "language_info": {
   "name": "python"
  }
 },
 "nbformat": 4,
 "nbformat_minor": 2
}
