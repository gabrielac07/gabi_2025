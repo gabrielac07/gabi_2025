{
 "cells": [
  {
   "cell_type": "raw",
   "id": "098e3afd",
   "metadata": {
    "vscode": {
     "languageId": "raw"
    }
   },
   "source": [
    "---\n",
    "layout: post\n",
    "title: Javascript cell\n",
    "description: This is a Jupyter Notebook where I run a simple javascript cell.\n",
    "permalink: /java_cell/\n",
    "---"
   ]
  },
  {
   "cell_type": "code",
   "execution_count": 13,
   "id": "fa589095",
   "metadata": {},
   "outputs": [
    {
     "data": {
      "text/html": [
       "\n",
       "<html lang=\"en\">\n",
       "<head>\n",
       "    <meta charset=\"UTF-8\">\n",
       "    <meta name=\"viewport\" content=\"width=device-width, initial-scale=1.0\">\n",
       "    <title>Interactive Greeting</title>\n",
       "</head>\n",
       "<body>\n",
       "    <h1>Interactive Greeting</h1>\n",
       "    <input type=\"text\" id=\"nameInput\" placeholder=\"Enter your name\" />\n",
       "    <button id=\"greetBtn\">Greet Me!</button>\n",
       "    <p id=\"greetingMsg\"></p>\n",
       "\n",
       "    <script type=\"text/javascript\">\n",
       "        document.getElementById('greetBtn').addEventListener('click', function() {\n",
       "            var name = document.getElementById('nameInput').value;\n",
       "            var greetingMessage = \"Hello, \" + name + \"! Welcome to Jupyter!\";\n",
       "            document.getElementById('greetingMsg').innerText = greetingMessage;\n",
       "        });\n",
       "    </script>\n",
       "</body>\n",
       "</html>\n"
      ],
      "text/plain": [
       "<IPython.core.display.HTML object>"
      ]
     },
     "metadata": {},
     "output_type": "display_data"
    }
   ],
   "source": [
    "from IPython.display import display, HTML\n",
    "\n",
    "html_code = \"\"\"\n",
    "<html lang=\"en\">\n",
    "<head>\n",
    "    <meta charset=\"UTF-8\">\n",
    "    <meta name=\"viewport\" content=\"width=device-width, initial-scale=1.0\">\n",
    "    <title>Interactive Greeting</title>\n",
    "</head>\n",
    "<body>\n",
    "    <h1>Interactive Greeting</h1>\n",
    "    <input type=\"text\" id=\"nameInput\" placeholder=\"Enter your name\" />\n",
    "    <button id=\"greetBtn\">Greet Me!</button>\n",
    "    <p id=\"greetingMsg\"></p>\n",
    "\n",
    "    <script type=\"text/javascript\">\n",
    "        document.getElementById('greetBtn').addEventListener('click', function() {\n",
    "            var name = document.getElementById('nameInput').value;\n",
    "            var greetingMessage = \"Hello, \" + name + \"! Welcome to Jupyter!\";\n",
    "            document.getElementById('greetingMsg').innerText = greetingMessage;\n",
    "        });\n",
    "    </script>\n",
    "</body>\n",
    "</html>\n",
    "\"\"\"\n",
    "\n",
    "display(HTML(html_code))\n"
   ]
  }
 ],
 "metadata": {
  "kernelspec": {
   "display_name": "Python 3 (ipykernel)",
   "language": "python",
   "name": "python3"
  },
  "language_info": {
   "codemirror_mode": {
    "name": "ipython",
    "version": 3
   },
   "file_extension": ".py",
   "mimetype": "text/x-python",
   "name": "python",
   "nbconvert_exporter": "python",
   "pygments_lexer": "ipython3",
   "version": "3.12.3"
  }
 },
 "nbformat": 4,
 "nbformat_minor": 5
}
